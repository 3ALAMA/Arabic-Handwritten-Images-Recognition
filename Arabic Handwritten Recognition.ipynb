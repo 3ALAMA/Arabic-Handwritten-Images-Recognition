{
 "cells": [
  {
   "cell_type": "markdown",
   "metadata": {
    "colab_type": "text",
    "id": "c6TiNABwkAhe"
   },
   "source": [
    "# Arabic Handwritten Recognition"
   ]
  },
  {
   "cell_type": "markdown",
   "metadata": {
    "colab_type": "text",
    "id": "yLgu44Fvkgdr"
   },
   "source": [
    "## Overview\n",
    "The automatic recognition of text on scanned images has enabled many applications such as searching for words in large volumes of documents, automatic sorting of postal mail, and convenient editing of previously printed documents.\n",
    "\n",
    "The domain of handwriting in the Arabic script presents unique technical challenges and has been addressed more recently than other domains. Many different methods have been proposed and applied to various types of images.\n",
    "\n",
    "Here we will focus on the recognition part of handwritten Arabic letters and digits recognition that face several challenges, including the unlimited variation in human handwriting and the large public databases.\n",
    "\n",
    "In this project we will employ several deep learning models to classify a the images to an arabic letter or digit. \n",
    "\n"
   ]
  },
  {
   "cell_type": "markdown",
   "metadata": {
    "colab_type": "text",
    "id": "jDxpa4JAonJF"
   },
   "source": [
    "## Dataset\n",
    "The dataset for this project originates from kaggle kernels which include \n",
    "**[Arabic Digits](https://www.kaggle.com/mloey1/ahdd1)** and **[Arabic Letters](https://www.kaggle.com/mloey1/ahcd1)**.\n",
    "\n",
    "All the datasets are CSV files representing the image pixels values and their corresponding label.\n",
    "\n",
    "Here are some more details about the datasets:\n",
    "\n",
    "* **Arabic Digits Dataset represents MADBase** (modified Arabic handwritten digits database) which contains **60,000 training images, and 10,000 test images**. MADBase was **written by 700 writers**. Each writer wrote each digit (from 0 -9) ten times. To ensure including different writing styles, the database was gathered from different institutions: Colleges of Engineering and Law, School of Medicine, the Open University (whose students span a wide range of ages), a high school, and a governmental institution. MADBase is available for free and can be downloaded from [here](http://datacenter.aucegypt.edu/shazeem/).\n",
    "\n",
    "* **Arabic Letters Dataset is composed of 16,800 characters written by 60 participants**, the age range is between 19 to 40 years, and 90% of participants are right-hand. Each participant wrote each character (from ’alef’ to ’yeh’) ten times. The images were scanned at the resolution of 300 dpi. Each block is segmented automatically using Matlab 2016a to determining the coordinates for each block. **The dataset is partitioned into two sets: a training set of 13,440 characters to 480 images per class and a test set of 3,360 characters to 120 images per class**. Writers of training set and test set are exclusive. Ordering of including writers to test set are randomized to make sure that writers of test set are not from a single institution to ensure variability of the test set."
   ]
  },
  {
   "cell_type": "markdown",
   "metadata": {
    "colab_type": "text",
    "id": "m6_ru2oupR7h"
   },
   "source": [
    "## Data Exploration\n"
   ]
  },
  {
   "cell_type": "markdown",
   "metadata": {
    "colab_type": "text",
    "id": "q2Z4_QkxppsF"
   },
   "source": [
    "1. We need to mount to google drive to be able to use the uploaded dataset files.\n"
   ]
  },
  {
   "cell_type": "code",
   "execution_count": 2,
   "metadata": {
    "colab": {
     "base_uri": "https://localhost:8080/",
     "height": 34
    },
    "colab_type": "code",
    "executionInfo": {
     "elapsed": 4686,
     "status": "ok",
     "timestamp": 1537570398935,
     "user": {
      "displayName": "Amr Hendy",
      "photoUrl": "//lh4.googleusercontent.com/-dRbE1ZGijO8/AAAAAAAAAAI/AAAAAAAAANg/YkTGbPMb_FQ/s50-c-k-no/photo.jpg",
      "userId": "116082760662520987778"
     },
     "user_tz": -120
    },
    "id": "qNoWN1Ts6SFr",
    "outputId": "7725ab9b-c153-4db0-adcc-3b0d87ec944f"
   },
   "outputs": [
    {
     "name": "stdout",
     "output_type": "stream",
     "text": [
      "Mounted at /content/drive\n"
     ]
    }
   ],
   "source": [
    "from google.colab import drive\n",
    "drive.mount('/content/drive')"
   ]
  },
  {
   "cell_type": "markdown",
   "metadata": {
    "colab_type": "text",
    "id": "jJo8eDIRp5ku"
   },
   "source": [
    "2. Import libraries necessary for this project.\n"
   ]
  },
  {
   "cell_type": "code",
   "execution_count": 0,
   "metadata": {
    "colab": {},
    "colab_type": "code",
    "id": "v3o6mEbK6W9v"
   },
   "outputs": [],
   "source": [
    "# Import main libraries necessary for this project\n",
    "import numpy as np\n",
    "import pandas as pd\n",
    "from IPython.display import display # Allows the use of display() for DataFrames\n",
    "\n",
    "# Import libraries needed for reading image and processing it\n",
    "import csv\n",
    "from PIL import Image\n",
    "from scipy.ndimage import rotate\n",
    "\n",
    "# Pretty display for notebooks\n",
    "%matplotlib inline"
   ]
  },
  {
   "cell_type": "markdown",
   "metadata": {
    "colab_type": "text",
    "id": "X0ubj6mrqXku"
   },
   "source": [
    "3. Load the dataset files into dataframes to be used later in the project"
   ]
  },
  {
   "cell_type": "markdown",
   "metadata": {
    "colab_type": "text",
    "id": "rGcWZ2BBrLrr"
   },
   "source": [
    "### Loading Arabic Letters Dataset"
   ]
  },
  {
   "cell_type": "code",
   "execution_count": 4,
   "metadata": {
    "colab": {
     "base_uri": "https://localhost:8080/",
     "height": 267
    },
    "colab_type": "code",
    "executionInfo": {
     "elapsed": 14920,
     "status": "ok",
     "timestamp": 1537570415152,
     "user": {
      "displayName": "Amr Hendy",
      "photoUrl": "//lh4.googleusercontent.com/-dRbE1ZGijO8/AAAAAAAAAAI/AAAAAAAAANg/YkTGbPMb_FQ/s50-c-k-no/photo.jpg",
      "userId": "116082760662520987778"
     },
     "user_tz": -120
    },
    "id": "1MRwVjsDKpCN",
    "outputId": "d1b4f3fb-01bd-45e3-97af-b5e62f940e96"
   },
   "outputs": [
    {
     "name": "stdout",
     "output_type": "stream",
     "text": [
      "There are 13440 training arabic letter images of 64x64 pixels.\n",
      "There are 3360 testing arabic letter images of 64x64 pixels.\n"
     ]
    },
    {
     "data": {
      "text/html": [
       "<div>\n",
       "<style scoped>\n",
       "    .dataframe tbody tr th:only-of-type {\n",
       "        vertical-align: middle;\n",
       "    }\n",
       "\n",
       "    .dataframe tbody tr th {\n",
       "        vertical-align: top;\n",
       "    }\n",
       "\n",
       "    .dataframe thead th {\n",
       "        text-align: right;\n",
       "    }\n",
       "</style>\n",
       "<table border=\"1\" class=\"dataframe\">\n",
       "  <thead>\n",
       "    <tr style=\"text-align: right;\">\n",
       "      <th></th>\n",
       "      <th>0</th>\n",
       "      <th>1</th>\n",
       "      <th>2</th>\n",
       "      <th>3</th>\n",
       "      <th>4</th>\n",
       "      <th>5</th>\n",
       "      <th>6</th>\n",
       "      <th>7</th>\n",
       "      <th>8</th>\n",
       "      <th>9</th>\n",
       "      <th>...</th>\n",
       "      <th>4086</th>\n",
       "      <th>4087</th>\n",
       "      <th>4088</th>\n",
       "      <th>4089</th>\n",
       "      <th>4090</th>\n",
       "      <th>4091</th>\n",
       "      <th>4092</th>\n",
       "      <th>4093</th>\n",
       "      <th>4094</th>\n",
       "      <th>4095</th>\n",
       "    </tr>\n",
       "  </thead>\n",
       "  <tbody>\n",
       "    <tr>\n",
       "      <th>0</th>\n",
       "      <td>0</td>\n",
       "      <td>0</td>\n",
       "      <td>0</td>\n",
       "      <td>0</td>\n",
       "      <td>0</td>\n",
       "      <td>0</td>\n",
       "      <td>0</td>\n",
       "      <td>0</td>\n",
       "      <td>0</td>\n",
       "      <td>0</td>\n",
       "      <td>...</td>\n",
       "      <td>0</td>\n",
       "      <td>0</td>\n",
       "      <td>0</td>\n",
       "      <td>0</td>\n",
       "      <td>0</td>\n",
       "      <td>0</td>\n",
       "      <td>0</td>\n",
       "      <td>0</td>\n",
       "      <td>0</td>\n",
       "      <td>0</td>\n",
       "    </tr>\n",
       "    <tr>\n",
       "      <th>1</th>\n",
       "      <td>0</td>\n",
       "      <td>0</td>\n",
       "      <td>0</td>\n",
       "      <td>0</td>\n",
       "      <td>0</td>\n",
       "      <td>0</td>\n",
       "      <td>0</td>\n",
       "      <td>0</td>\n",
       "      <td>0</td>\n",
       "      <td>0</td>\n",
       "      <td>...</td>\n",
       "      <td>0</td>\n",
       "      <td>0</td>\n",
       "      <td>0</td>\n",
       "      <td>0</td>\n",
       "      <td>0</td>\n",
       "      <td>0</td>\n",
       "      <td>0</td>\n",
       "      <td>0</td>\n",
       "      <td>0</td>\n",
       "      <td>0</td>\n",
       "    </tr>\n",
       "    <tr>\n",
       "      <th>2</th>\n",
       "      <td>0</td>\n",
       "      <td>0</td>\n",
       "      <td>0</td>\n",
       "      <td>0</td>\n",
       "      <td>0</td>\n",
       "      <td>0</td>\n",
       "      <td>0</td>\n",
       "      <td>0</td>\n",
       "      <td>0</td>\n",
       "      <td>0</td>\n",
       "      <td>...</td>\n",
       "      <td>0</td>\n",
       "      <td>0</td>\n",
       "      <td>0</td>\n",
       "      <td>0</td>\n",
       "      <td>0</td>\n",
       "      <td>0</td>\n",
       "      <td>0</td>\n",
       "      <td>0</td>\n",
       "      <td>0</td>\n",
       "      <td>0</td>\n",
       "    </tr>\n",
       "    <tr>\n",
       "      <th>3</th>\n",
       "      <td>0</td>\n",
       "      <td>0</td>\n",
       "      <td>0</td>\n",
       "      <td>0</td>\n",
       "      <td>0</td>\n",
       "      <td>0</td>\n",
       "      <td>0</td>\n",
       "      <td>0</td>\n",
       "      <td>0</td>\n",
       "      <td>0</td>\n",
       "      <td>...</td>\n",
       "      <td>0</td>\n",
       "      <td>0</td>\n",
       "      <td>0</td>\n",
       "      <td>0</td>\n",
       "      <td>0</td>\n",
       "      <td>0</td>\n",
       "      <td>0</td>\n",
       "      <td>0</td>\n",
       "      <td>0</td>\n",
       "      <td>0</td>\n",
       "    </tr>\n",
       "    <tr>\n",
       "      <th>4</th>\n",
       "      <td>0</td>\n",
       "      <td>0</td>\n",
       "      <td>0</td>\n",
       "      <td>0</td>\n",
       "      <td>0</td>\n",
       "      <td>0</td>\n",
       "      <td>0</td>\n",
       "      <td>0</td>\n",
       "      <td>0</td>\n",
       "      <td>0</td>\n",
       "      <td>...</td>\n",
       "      <td>0</td>\n",
       "      <td>0</td>\n",
       "      <td>0</td>\n",
       "      <td>0</td>\n",
       "      <td>0</td>\n",
       "      <td>0</td>\n",
       "      <td>0</td>\n",
       "      <td>0</td>\n",
       "      <td>0</td>\n",
       "      <td>0</td>\n",
       "    </tr>\n",
       "  </tbody>\n",
       "</table>\n",
       "<p>5 rows × 4096 columns</p>\n",
       "</div>"
      ],
      "text/plain": [
       "   0     1     2     3     4     5     6     7     8     9     ...   4086  \\\n",
       "0     0     0     0     0     0     0     0     0     0     0  ...      0   \n",
       "1     0     0     0     0     0     0     0     0     0     0  ...      0   \n",
       "2     0     0     0     0     0     0     0     0     0     0  ...      0   \n",
       "3     0     0     0     0     0     0     0     0     0     0  ...      0   \n",
       "4     0     0     0     0     0     0     0     0     0     0  ...      0   \n",
       "\n",
       "   4087  4088  4089  4090  4091  4092  4093  4094  4095  \n",
       "0     0     0     0     0     0     0     0     0     0  \n",
       "1     0     0     0     0     0     0     0     0     0  \n",
       "2     0     0     0     0     0     0     0     0     0  \n",
       "3     0     0     0     0     0     0     0     0     0  \n",
       "4     0     0     0     0     0     0     0     0     0  \n",
       "\n",
       "[5 rows x 4096 columns]"
      ]
     },
     "execution_count": 4,
     "metadata": {
      "tags": []
     },
     "output_type": "execute_result"
    }
   ],
   "source": [
    "# Training letters images and labels files\n",
    "letters_training_images_file_path = \"drive/My Drive/Capstone Project/Datasets 64x64/Arabic Handwritten Characters Dataset CSV/training images.zip\"\n",
    "letters_training_labels_file_path = \"drive/My Drive/Capstone Project/Datasets 64x64/Arabic Handwritten Characters Dataset CSV/training labels.zip\"\n",
    "# Testing letters images and labels files\n",
    "letters_testing_images_file_path = \"drive/My Drive/Capstone Project/Datasets 64x64/Arabic Handwritten Characters Dataset CSV/testing images.zip\"\n",
    "letters_testing_labels_file_path = \"drive/My Drive/Capstone Project/Datasets 64x64/Arabic Handwritten Characters Dataset CSV/testing labels.zip\"\n",
    "\n",
    "# Loading dataset into dataframes\n",
    "training_letters_images = pd.read_csv(letters_training_images_file_path, compression='zip', header=None)\n",
    "training_letters_labels = pd.read_csv(letters_training_labels_file_path, compression='zip', header=None)\n",
    "testing_letters_images = pd.read_csv(letters_testing_images_file_path, compression='zip', header=None)\n",
    "testing_letters_labels = pd.read_csv(letters_testing_labels_file_path, compression='zip', header=None)\n",
    "\n",
    "# print statistics about the dataset\n",
    "print(\"There are %d training arabic letter images of 64x64 pixels.\" %training_letters_images.shape[0])\n",
    "print(\"There are %d testing arabic letter images of 64x64 pixels.\" %testing_letters_images.shape[0])\n",
    "training_letters_images.head()"
   ]
  },
  {
   "cell_type": "markdown",
   "metadata": {
    "colab_type": "text",
    "id": "KuPNRawns2BV"
   },
   "source": [
    "### Loading Arabic Digits Dataset"
   ]
  },
  {
   "cell_type": "code",
   "execution_count": 5,
   "metadata": {
    "colab": {
     "base_uri": "https://localhost:8080/",
     "height": 51
    },
    "colab_type": "code",
    "executionInfo": {
     "elapsed": 55279,
     "status": "ok",
     "timestamp": 1537570470503,
     "user": {
      "displayName": "Amr Hendy",
      "photoUrl": "//lh4.googleusercontent.com/-dRbE1ZGijO8/AAAAAAAAAAI/AAAAAAAAANg/YkTGbPMb_FQ/s50-c-k-no/photo.jpg",
      "userId": "116082760662520987778"
     },
     "user_tz": -120
    },
    "id": "Zyoid-WpLjXT",
    "outputId": "3c91821c-d2c2-4ae1-fe3c-66481f4f0bfd"
   },
   "outputs": [
    {
     "name": "stdout",
     "output_type": "stream",
     "text": [
      "There are 60000 training arabic digit images of 64x64 pixels.\n",
      "There are 10000 testing arabic digit images of 64x64 pixels.\n"
     ]
    }
   ],
   "source": [
    "# Training digits images and labels files\n",
    "digits_training_images_file_path = \"drive/My Drive/Capstone Project/Datasets 64x64/Arabic Handwritten Digits Dataset CSV/training images.zip\"\n",
    "digits_training_labels_file_path = \"drive/My Drive/Capstone Project/Datasets 64x64/Arabic Handwritten Digits Dataset CSV/training labels.zip\"\n",
    "# Testing digits images and labels files\n",
    "digits_testing_images_file_path = \"drive/My Drive/Capstone Project/Datasets 64x64/Arabic Handwritten Digits Dataset CSV/testing images.zip\"\n",
    "digits_testing_labels_file_path = \"drive/My Drive/Capstone Project/Datasets 64x64/Arabic Handwritten Digits Dataset CSV/testing labels.zip\"\n",
    "\n",
    "# Loading dataset into dataframes\n",
    "training_digits_images = pd.read_csv(digits_training_images_file_path, compression='zip', header=None)\n",
    "training_digits_labels = pd.read_csv(digits_training_labels_file_path, compression='zip', header=None)\n",
    "testing_digits_images = pd.read_csv(digits_testing_images_file_path, compression='zip', header=None)\n",
    "testing_digits_labels = pd.read_csv(digits_testing_labels_file_path, compression='zip', header=None)\n",
    "\n",
    "# print statistics about the dataset\n",
    "print(\"There are %d training arabic digit images of 64x64 pixels.\" %training_digits_images.shape[0])\n",
    "print(\"There are %d testing arabic digit images of 64x64 pixels.\" %testing_digits_images.shape[0])"
   ]
  },
  {
   "cell_type": "markdown",
   "metadata": {
    "colab_type": "text",
    "id": "LGFth_ks0VH4"
   },
   "source": [
    "### Convert csv values to an image \n",
    "Writting a method to be used later if we want visualization of an image from its pixels values."
   ]
  },
  {
   "cell_type": "code",
   "execution_count": 0,
   "metadata": {
    "colab": {},
    "colab_type": "code",
    "id": "2MbTUT_mMBGH"
   },
   "outputs": [],
   "source": [
    "def convert_values_to_image(image_values, display=False):\n",
    "  image_array = np.asarray(image_values)\n",
    "  image_array = image_array.reshape(64, 64).astype('uint8')\n",
    "  # The original dataset is reflected so we will flip it then rotate for a better view only.\n",
    "  image_array = np.flip(image_array, 0)\n",
    "  image_array = rotate(image_array, -90)\n",
    "  new_image = Image.fromarray(image_array)\n",
    "  if display == True:\n",
    "    new_image.show()\n",
    "  return new_image"
   ]
  },
  {
   "cell_type": "markdown",
   "metadata": {
    "colab_type": "text",
    "id": "MBwu1eDk0mjj"
   },
   "source": [
    "### Visualizing some examples"
   ]
  },
  {
   "cell_type": "code",
   "execution_count": 7,
   "metadata": {
    "colab": {
     "base_uri": "https://localhost:8080/",
     "height": 81
    },
    "colab_type": "code",
    "executionInfo": {
     "elapsed": 2028,
     "status": "ok",
     "timestamp": 1537570474704,
     "user": {
      "displayName": "Amr Hendy",
      "photoUrl": "//lh4.googleusercontent.com/-dRbE1ZGijO8/AAAAAAAAAAI/AAAAAAAAANg/YkTGbPMb_FQ/s50-c-k-no/photo.jpg",
      "userId": "116082760662520987778"
     },
     "user_tz": -120
    },
    "id": "pX4PxwqbyQg8",
    "outputId": "956132bf-ceaf-45d8-ad1c-0748677e12a6"
   },
   "outputs": [
    {
     "data": {
      "image/png": "[encoded data removed]",
      "text/plain": [
       "<PIL.Image.Image image mode=L size=64x64 at 0x7FA7D1E5F4E0>"
      ]
     },
     "execution_count": 7,
     "metadata": {
      "tags": []
     },
     "output_type": "execute_result"
    }
   ],
   "source": [
    "convert_values_to_image(training_letters_images.loc[0], True)"
   ]
  },
  {
   "cell_type": "code",
   "execution_count": 8,
   "metadata": {
    "colab": {
     "base_uri": "https://localhost:8080/",
     "height": 81
    },
    "colab_type": "code",
    "executionInfo": {
     "elapsed": 1478,
     "status": "ok",
     "timestamp": 1537570476246,
     "user": {
      "displayName": "Amr Hendy",
      "photoUrl": "//lh4.googleusercontent.com/-dRbE1ZGijO8/AAAAAAAAAAI/AAAAAAAAANg/YkTGbPMb_FQ/s50-c-k-no/photo.jpg",
      "userId": "116082760662520987778"
     },
     "user_tz": -120
    },
    "id": "R0J_oTy0yeXb",
    "outputId": "6b7ff313-0a01-402d-945e-a8f8085dfb45"
   },
   "outputs": [
    {
     "data": {
      "image/png": "[encoded data removed]",
      "text/plain": [
       "<PIL.Image.Image image mode=L size=64x64 at 0x7FA77F745F60>"
      ]
     },
     "execution_count": 8,
     "metadata": {
      "tags": []
     },
     "output_type": "execute_result"
    }
   ],
   "source": [
    "convert_values_to_image(training_letters_images.loc[12], True)"
   ]
  },
  {
   "cell_type": "code",
   "execution_count": 9,
   "metadata": {
    "colab": {
     "base_uri": "https://localhost:8080/",
     "height": 81
    },
    "colab_type": "code",
    "executionInfo": {
     "elapsed": 2027,
     "status": "ok",
     "timestamp": 1537570478338,
     "user": {
      "displayName": "Amr Hendy",
      "photoUrl": "//lh4.googleusercontent.com/-dRbE1ZGijO8/AAAAAAAAAAI/AAAAAAAAANg/YkTGbPMb_FQ/s50-c-k-no/photo.jpg",
      "userId": "116082760662520987778"
     },
     "user_tz": -120
    },
    "id": "IVwNBEIj2dcK",
    "outputId": "8bde3cea-15e4-45e4-8ff5-c2299e1a1849"
   },
   "outputs": [
    {
     "data": {
      "image/png": "[encoded data removed]",
      "text/plain": [
       "<PIL.Image.Image image mode=L size=64x64 at 0x7FA77FDF3EB8>"
      ]
     },
     "execution_count": 9,
     "metadata": {
      "tags": []
     },
     "output_type": "execute_result"
    }
   ],
   "source": [
    "convert_values_to_image(training_letters_images.loc[37], True)"
   ]
  },
  {
   "cell_type": "code",
   "execution_count": 10,
   "metadata": {
    "colab": {
     "base_uri": "https://localhost:8080/",
     "height": 81
    },
    "colab_type": "code",
    "executionInfo": {
     "elapsed": 1351,
     "status": "ok",
     "timestamp": 1537570479775,
     "user": {
      "displayName": "Amr Hendy",
      "photoUrl": "//lh4.googleusercontent.com/-dRbE1ZGijO8/AAAAAAAAAAI/AAAAAAAAANg/YkTGbPMb_FQ/s50-c-k-no/photo.jpg",
      "userId": "116082760662520987778"
     },
     "user_tz": -120
    },
    "id": "pNKxXW5-2fl9",
    "outputId": "1118ceb2-022f-4f23-88de-8bcfb43d56c7"
   },
   "outputs": [
    {
     "data": {
      "image/png": "[encoded data removed]",
      "text/plain": [
       "<PIL.Image.Image image mode=L size=64x64 at 0x7FA77FE7A518>"
      ]
     },
     "execution_count": 10,
     "metadata": {
      "tags": []
     },
     "output_type": "execute_result"
    }
   ],
   "source": [
    "convert_values_to_image(training_letters_images.loc[3000], True)"
   ]
  },
  {
   "cell_type": "code",
   "execution_count": 11,
   "metadata": {
    "colab": {
     "base_uri": "https://localhost:8080/",
     "height": 81
    },
    "colab_type": "code",
    "executionInfo": {
     "elapsed": 2119,
     "status": "ok",
     "timestamp": 1537570481961,
     "user": {
      "displayName": "Amr Hendy",
      "photoUrl": "//lh4.googleusercontent.com/-dRbE1ZGijO8/AAAAAAAAAAI/AAAAAAAAANg/YkTGbPMb_FQ/s50-c-k-no/photo.jpg",
      "userId": "116082760662520987778"
     },
     "user_tz": -120
    },
    "id": "FIYtePhT2iBr",
    "outputId": "7ef75d68-74fd-41af-82dc-93774e1f4424"
   },
   "outputs": [
    {
     "data": {
      "image/png": "[encoded data removed]",
      "text/plain": [
       "<PIL.Image.Image image mode=L size=64x64 at 0x7FA77F7532B0>"
      ]
     },
     "execution_count": 11,
     "metadata": {
      "tags": []
     },
     "output_type": "execute_result"
    }
   ],
   "source": [
    "convert_values_to_image(training_digits_images.loc[0], True)"
   ]
  },
  {
   "cell_type": "code",
   "execution_count": 12,
   "metadata": {
    "colab": {
     "base_uri": "https://localhost:8080/",
     "height": 81
    },
    "colab_type": "code",
    "executionInfo": {
     "elapsed": 2273,
     "status": "ok",
     "timestamp": 1537570484302,
     "user": {
      "displayName": "Amr Hendy",
      "photoUrl": "//lh4.googleusercontent.com/-dRbE1ZGijO8/AAAAAAAAAAI/AAAAAAAAANg/YkTGbPMb_FQ/s50-c-k-no/photo.jpg",
      "userId": "116082760662520987778"
     },
     "user_tz": -120
    },
    "id": "zdnSlqNxYB_H",
    "outputId": "ec27d7df-ff90-4d3d-ec8e-cc10afd3f0fa"
   },
   "outputs": [
    {
     "data": {
      "image/png": "[encoded data removed]",
      "text/plain": [
       "<PIL.Image.Image image mode=L size=64x64 at 0x7FA77F753358>"
      ]
     },
     "execution_count": 12,
     "metadata": {
      "tags": []
     },
     "output_type": "execute_result"
    }
   ],
   "source": [
    "convert_values_to_image(training_digits_images.loc[2], True)"
   ]
  },
  {
   "cell_type": "code",
   "execution_count": 13,
   "metadata": {
    "colab": {
     "base_uri": "https://localhost:8080/",
     "height": 81
    },
    "colab_type": "code",
    "executionInfo": {
     "elapsed": 1515,
     "status": "ok",
     "timestamp": 1537570485885,
     "user": {
      "displayName": "Amr Hendy",
      "photoUrl": "//lh4.googleusercontent.com/-dRbE1ZGijO8/AAAAAAAAAAI/AAAAAAAAANg/YkTGbPMb_FQ/s50-c-k-no/photo.jpg",
      "userId": "116082760662520987778"
     },
     "user_tz": -120
    },
    "id": "hlSt-2_2i8O1",
    "outputId": "22dc1bb1-6c99-45cb-fe6b-151e594ff922"
   },
   "outputs": [
    {
     "data": {
      "image/png": "[encoded data removed]",
      "text/plain": [
       "<PIL.Image.Image image mode=L size=64x64 at 0x7FA77FE7A588>"
      ]
     },
     "execution_count": 13,
     "metadata": {
      "tags": []
     },
     "output_type": "execute_result"
    }
   ],
   "source": [
    "convert_values_to_image(training_digits_images.loc[7], True)"
   ]
  },
  {
   "cell_type": "code",
   "execution_count": 14,
   "metadata": {
    "colab": {
     "base_uri": "https://localhost:8080/",
     "height": 81
    },
    "colab_type": "code",
    "executionInfo": {
     "elapsed": 1414,
     "status": "ok",
     "timestamp": 1537570487368,
     "user": {
      "displayName": "Amr Hendy",
      "photoUrl": "//lh4.googleusercontent.com/-dRbE1ZGijO8/AAAAAAAAAAI/AAAAAAAAANg/YkTGbPMb_FQ/s50-c-k-no/photo.jpg",
      "userId": "116082760662520987778"
     },
     "user_tz": -120
    },
    "id": "xsucycIri9ht",
    "outputId": "04ec1a5e-6afa-472b-ae44-1dcb433b54a2"
   },
   "outputs": [
    {
     "data": {
      "image/png": "[encoded data removed]",
      "text/plain": [
       "<PIL.Image.Image image mode=L size=64x64 at 0x7FA77F753470>"
      ]
     },
     "execution_count": 14,
     "metadata": {
      "tags": []
     },
     "output_type": "execute_result"
    }
   ],
   "source": [
    "convert_values_to_image(training_digits_images.loc[9], True)"
   ]
  },
  {
   "cell_type": "markdown",
   "metadata": {
    "colab_type": "text",
    "id": "ZZT4fEuLoLXw"
   },
   "source": [
    "## Data Preprocessing"
   ]
  },
  {
   "cell_type": "markdown",
   "metadata": {
    "colab_type": "text",
    "id": "TZH8hpO_qgem"
   },
   "source": [
    "### Image Normalization\n",
    "We rescale the images by dividing every pixel in the image by 255 to make them into range [0, 1]"
   ]
  },
  {
   "cell_type": "code",
   "execution_count": 0,
   "metadata": {
    "colab": {},
    "colab_type": "code",
    "id": "1HJI0WG0oNmT"
   },
   "outputs": [],
   "source": [
    "training_digits_images_scaled = training_digits_images.values.astype('float32')/255\n",
    "training_digits_labels = training_digits_labels.values.astype('int32')\n",
    "testing_digits_images_scaled = testing_digits_images.values.astype('float32')/255\n",
    "testing_digits_labels = testing_digits_labels.values.astype('int32')\n",
    "\n",
    "training_letters_images_scaled = training_letters_images.values.astype('float32')/255\n",
    "training_letters_labels = training_letters_labels.values.astype('int32')\n",
    "testing_letters_images_scaled = testing_letters_images.values.astype('float32')/255\n",
    "testing_letters_labels = testing_letters_labels.values.astype('int32')"
   ]
  },
  {
   "cell_type": "code",
   "execution_count": 16,
   "metadata": {
    "colab": {
     "base_uri": "https://localhost:8080/",
     "height": 136
    },
    "colab_type": "code",
    "executionInfo": {
     "elapsed": 1370,
     "status": "ok",
     "timestamp": 1537570491510,
     "user": {
      "displayName": "Amr Hendy",
      "photoUrl": "//lh4.googleusercontent.com/-dRbE1ZGijO8/AAAAAAAAAAI/AAAAAAAAANg/YkTGbPMb_FQ/s50-c-k-no/photo.jpg",
      "userId": "116082760662520987778"
     },
     "user_tz": -120
    },
    "id": "4GtF5Gc4sGsv",
    "outputId": "92b96de8-2684-4d9d-8f49-26f238f81dd8"
   },
   "outputs": [
    {
     "name": "stdout",
     "output_type": "stream",
     "text": [
      "Training images of digits after scaling\n",
      "(60000, 4096)\n"
     ]
    },
    {
     "data": {
      "text/plain": [
       "array([[0., 0., 0., ..., 0., 0., 0.],\n",
       "       [0., 0., 0., ..., 0., 0., 0.],\n",
       "       [0., 0., 0., ..., 0., 0., 0.],\n",
       "       [0., 0., 0., ..., 0., 0., 0.],\n",
       "       [0., 0., 0., ..., 0., 0., 0.]], dtype=float32)"
      ]
     },
     "execution_count": 16,
     "metadata": {
      "tags": []
     },
     "output_type": "execute_result"
    }
   ],
   "source": [
    "print(\"Training images of digits after scaling\")\n",
    "print(training_digits_images_scaled.shape)\n",
    "training_digits_images_scaled[0:5]"
   ]
  },
  {
   "cell_type": "code",
   "execution_count": 17,
   "metadata": {
    "colab": {
     "base_uri": "https://localhost:8080/",
     "height": 136
    },
    "colab_type": "code",
    "executionInfo": {
     "elapsed": 1097,
     "status": "ok",
     "timestamp": 1537570492675,
     "user": {
      "displayName": "Amr Hendy",
      "photoUrl": "//lh4.googleusercontent.com/-dRbE1ZGijO8/AAAAAAAAAAI/AAAAAAAAANg/YkTGbPMb_FQ/s50-c-k-no/photo.jpg",
      "userId": "116082760662520987778"
     },
     "user_tz": -120
    },
    "id": "n68sxKC0sTkq",
    "outputId": "2e1e664b-c37b-445b-83d8-f6e4f34ca8a3"
   },
   "outputs": [
    {
     "name": "stdout",
     "output_type": "stream",
     "text": [
      "Training images of letters after scaling\n",
      "(13440, 4096)\n"
     ]
    },
    {
     "data": {
      "text/plain": [
       "array([[0., 0., 0., ..., 0., 0., 0.],\n",
       "       [0., 0., 0., ..., 0., 0., 0.],\n",
       "       [0., 0., 0., ..., 0., 0., 0.],\n",
       "       [0., 0., 0., ..., 0., 0., 0.],\n",
       "       [0., 0., 0., ..., 0., 0., 0.]], dtype=float32)"
      ]
     },
     "execution_count": 17,
     "metadata": {
      "tags": []
     },
     "output_type": "execute_result"
    }
   ],
   "source": [
    "print(\"Training images of letters after scaling\")\n",
    "print(training_letters_images_scaled.shape)\n",
    "training_letters_images_scaled[0:5]"
   ]
  },
  {
   "cell_type": "markdown",
   "metadata": {
    "colab_type": "text",
    "id": "T-X1SJjnsq8b"
   },
   "source": [
    "### Encoding Categorical Labels\n",
    "From the labels csv files we can see that labels are categorical values and it is a multi-class classification problem. \n",
    "\n",
    "Our outputs are in the form of:\n",
    "* Digits from 0 to 9 have categories numbers from 0 to 9\n",
    "* Letters from ’alef’ to ’yeh’ have categories numbers from 10 to 37\n",
    "\n",
    "**Here we will encode these categories values using One Hot Encoding with keras.**\n",
    "\n",
    "One-hot encoding transforms integer to a binary matrix where the array contains only one ‘1’ and the rest elements are ‘0’.\n",
    "\n"
   ]
  },
  {
   "cell_type": "code",
   "execution_count": 0,
   "metadata": {
    "colab": {},
    "colab_type": "code",
    "id": "uQyT17YzsU7U"
   },
   "outputs": [],
   "source": [
    "from keras.utils import to_categorical\n",
    "\n",
    "# one hot encoding\n",
    "# number of classes = 10 (digits classes) + 28 (arabic alphabet classes)\n",
    "number_of_classes = 38\n",
    "training_letters_labels_encoded = to_categorical(training_letters_labels, num_classes=number_of_classes)\n",
    "testing_letters_labels_encoded = to_categorical(testing_letters_labels, num_classes=number_of_classes)\n",
    "training_digits_labels_encoded = to_categorical(training_digits_labels, num_classes=number_of_classes)\n",
    "testing_digits_labels_encoded = to_categorical(testing_digits_labels, num_classes=number_of_classes)"
   ]
  },
  {
   "cell_type": "code",
   "execution_count": 19,
   "metadata": {
    "colab": {
     "base_uri": "https://localhost:8080/",
     "height": 136
    },
    "colab_type": "code",
    "executionInfo": {
     "elapsed": 1490,
     "status": "ok",
     "timestamp": 1537570495783,
     "user": {
      "displayName": "Amr Hendy",
      "photoUrl": "//lh4.googleusercontent.com/-dRbE1ZGijO8/AAAAAAAAAAI/AAAAAAAAANg/YkTGbPMb_FQ/s50-c-k-no/photo.jpg",
      "userId": "116082760662520987778"
     },
     "user_tz": -120
    },
    "id": "9CyoYTDl1BXD",
    "outputId": "8c231477-6cff-44d0-a65c-ccd05c25e79c"
   },
   "outputs": [
    {
     "name": "stdout",
     "output_type": "stream",
     "text": [
      "[[1. 0. 0. ... 0. 0. 0.]\n",
      " [0. 1. 0. ... 0. 0. 0.]\n",
      " [0. 0. 1. ... 0. 0. 0.]\n",
      " ...\n",
      " [0. 0. 0. ... 0. 0. 0.]\n",
      " [0. 0. 0. ... 0. 0. 0.]\n",
      " [0. 0. 0. ... 0. 0. 0.]]\n"
     ]
    }
   ],
   "source": [
    "print(training_digits_labels_encoded)"
   ]
  },
  {
   "cell_type": "markdown",
   "metadata": {
    "colab_type": "text",
    "id": "nsJzI6Gp5bbA"
   },
   "source": [
    "### Reshaping Input Images to 64x64x1\n"
   ]
  },
  {
   "cell_type": "markdown",
   "metadata": {
    "colab_type": "text",
    "id": "VDldXMz76EQH"
   },
   "source": [
    "When using TensorFlow as backend, Keras CNNs require a 4D array (which we'll also refer to as a 4D tensor) as input, with shape\n",
    "(nb_samples,rows,columns,channels)\n",
    "\n",
    "where nb_samples corresponds to the total number of images (or samples), and rows, columns, and channels correspond to the number of rows, columns, and channels for each image, respectively.\n",
    "\n",
    "**So we will reshape the input images to a 4D tensor with shape\n",
    "(nb_samples, 64, 64 ,1)** as we use grayscale images of 64x64 pixels."
   ]
  },
  {
   "cell_type": "code",
   "execution_count": 20,
   "metadata": {
    "colab": {
     "base_uri": "https://localhost:8080/",
     "height": 51
    },
    "colab_type": "code",
    "executionInfo": {
     "elapsed": 1398,
     "status": "ok",
     "timestamp": 1537570497246,
     "user": {
      "displayName": "Amr Hendy",
      "photoUrl": "//lh4.googleusercontent.com/-dRbE1ZGijO8/AAAAAAAAAAI/AAAAAAAAANg/YkTGbPMb_FQ/s50-c-k-no/photo.jpg",
      "userId": "116082760662520987778"
     },
     "user_tz": -120
    },
    "id": "EWTQ0nq85wWL",
    "outputId": "701f6ed5-72e3-4542-b87f-70d6e953c21a"
   },
   "outputs": [
    {
     "name": "stdout",
     "output_type": "stream",
     "text": [
      "(60000, 64, 64, 1) (60000, 38) (10000, 64, 64, 1) (10000, 38)\n",
      "(13440, 64, 64, 1) (13440, 38) (3360, 64, 64, 1) (3360, 38)\n"
     ]
    }
   ],
   "source": [
    "# reshape input digit images to 64x64x1\n",
    "training_digits_images_scaled = training_digits_images_scaled.reshape([-1, 64, 64, 1])\n",
    "testing_digits_images_scaled = testing_digits_images_scaled.reshape([-1, 64, 64, 1])\n",
    "\n",
    "# reshape input letter images to 64x64x1\n",
    "training_letters_images_scaled = training_letters_images_scaled.reshape([-1, 64, 64, 1])\n",
    "testing_letters_images_scaled = testing_letters_images_scaled.reshape([-1, 64, 64, 1])\n",
    "\n",
    "print(training_digits_images_scaled.shape, training_digits_labels_encoded.shape, testing_digits_images_scaled.shape, testing_digits_labels_encoded.shape)\n",
    "print(training_letters_images_scaled.shape, training_letters_labels_encoded.shape, testing_letters_images_scaled.shape, testing_letters_labels_encoded.shape)"
   ]
  },
  {
   "cell_type": "markdown",
   "metadata": {
    "colab_type": "text",
    "id": "Gtsr1vVaYS9D"
   },
   "source": [
    "### Merging Letters and Digits Datasets"
   ]
  },
  {
   "cell_type": "code",
   "execution_count": 21,
   "metadata": {
    "colab": {
     "base_uri": "https://localhost:8080/",
     "height": 85
    },
    "colab_type": "code",
    "executionInfo": {
     "elapsed": 2701,
     "status": "ok",
     "timestamp": 1537570500022,
     "user": {
      "displayName": "Amr Hendy",
      "photoUrl": "//lh4.googleusercontent.com/-dRbE1ZGijO8/AAAAAAAAAAI/AAAAAAAAANg/YkTGbPMb_FQ/s50-c-k-no/photo.jpg",
      "userId": "116082760662520987778"
     },
     "user_tz": -120
    },
    "id": "1bdfCcFpYpA_",
    "outputId": "7444f2af-f98c-43e9-c200-814357cd7461"
   },
   "outputs": [
    {
     "name": "stdout",
     "output_type": "stream",
     "text": [
      "Total Training images are 73440 images of shape\n",
      "(73440, 64, 64, 1) (73440, 38)\n",
      "Total Testing images are 13360 images of shape\n",
      "(13360, 64, 64, 1) (13360, 38)\n"
     ]
    }
   ],
   "source": [
    "training_data_images = np.concatenate((training_digits_images_scaled, training_letters_images_scaled), axis=0) \n",
    "training_data_labels = np.concatenate((training_digits_labels_encoded, training_letters_labels_encoded), axis=0)\n",
    "print(\"Total Training images are {} images of shape\".format(training_data_images.shape[0]))\n",
    "print(training_data_images.shape, training_data_labels.shape)\n",
    "\n",
    "\n",
    "testing_data_images = np.concatenate((testing_digits_images_scaled, testing_letters_images_scaled), axis=0) \n",
    "testing_data_labels = np.concatenate((testing_digits_labels_encoded, testing_letters_labels_encoded), axis=0)\n",
    "print(\"Total Testing images are {} images of shape\".format(testing_data_images.shape[0]))\n",
    "print(testing_data_images.shape, testing_data_labels.shape)\n"
   ]
  },
  {
   "cell_type": "markdown",
   "metadata": {
    "colab_type": "text",
    "id": "bsZR7mb89UoI"
   },
   "source": [
    "## Designing Model Architecture"
   ]
  },
  {
   "cell_type": "markdown",
   "metadata": {
    "colab_type": "text",
    "id": "7DImv-hIKSOf"
   },
   "source": [
    "Now we will make a method which creates the model architecture with the specified optimizer and activation functions."
   ]
  },
  {
   "cell_type": "code",
   "execution_count": 0,
   "metadata": {
    "colab": {},
    "colab_type": "code",
    "id": "iHOTAM-w79Ak"
   },
   "outputs": [],
   "source": [
    "from keras.models import Sequential\n",
    "from keras.layers import Conv2D, MaxPooling2D, GlobalAveragePooling2D, BatchNormalization, Dropout, Dense\n",
    "\n",
    "def create_model(optimizer='adam', kernel_initializer='he_normal', activation='relu'):\n",
    "  # create model\n",
    "  model = Sequential()\n",
    "  model.add(Conv2D(filters=16, kernel_size=3, padding='same', input_shape=(64, 64, 1), kernel_initializer=kernel_initializer, activation=activation))\n",
    "  model.add(BatchNormalization())\n",
    "  model.add(MaxPooling2D(pool_size=2))\n",
    "  model.add(Dropout(0.2))\n",
    "\n",
    "  model.add(Conv2D(filters=32, kernel_size=3, padding='same', kernel_initializer=kernel_initializer, activation=activation))\n",
    "  model.add(BatchNormalization())\n",
    "  model.add(MaxPooling2D(pool_size=2))\n",
    "  model.add(Dropout(0.2))\n",
    "\n",
    "  model.add(Conv2D(filters=64, kernel_size=3, padding='same', kernel_initializer=kernel_initializer, activation=activation))\n",
    "  model.add(BatchNormalization())\n",
    "  model.add(MaxPooling2D(pool_size=2))\n",
    "  model.add(Dropout(0.2))\n",
    "\n",
    "  model.add(Conv2D(filters=128, kernel_size=3, padding='same', kernel_initializer=kernel_initializer, activation=activation))\n",
    "  model.add(BatchNormalization())\n",
    "  model.add(MaxPooling2D(pool_size=2))\n",
    "  model.add(Dropout(0.2))\n",
    "  model.add(GlobalAveragePooling2D())\n",
    "  \n",
    "  #Fully connected final layer\n",
    "  model.add(Dense(38, activation='softmax'))\n",
    "\n",
    "  # Compile model\n",
    "  model.compile(loss='categorical_crossentropy', metrics=['accuracy'], optimizer=optimizer)\n",
    "  return model"
   ]
  },
  {
   "cell_type": "markdown",
   "metadata": {
    "colab_type": "text",
    "id": "Wuqb1snmHPqW"
   },
   "source": [
    "Let’s understand above code step by step.\n",
    "\n",
    "* The first hidden layer is a convolutional layer. The layer has 16 feature maps, which with the size of 3×3 and an activation function which is relu. This is the input layer, expecting images with the structure outlined above.\n",
    "* The second layer is Batch Normalization which solves having distributions of the features vary across the training and test data, which breaks the IID assumption. We use it to help in two ways faster learning and higher overall accuracy. \n",
    "* The third layer is the MaxPooling layer. MaxPooling layer is used to down-sample the input to enable the model to make assumptions about the features so as to reduce overfitting. It also reduces the number of parameters to learn, reducing the training time.\n",
    "* The next layer is a Regularization layer using dropout. It is configured to randomly exclude 20% of neurons in the layer in order to reduce overfitting.\n",
    "* Another hidden layer with 32 feature maps with the size of 3×3 and a relu activation function to capture more features from the image.\n",
    "* Other hidden layers with 64 and 128 feature maps with the size of 3×3 and a relu activation function to capture complex patterns from the image which will decribe the digits and letters later.\n",
    "* More MaxPooling, Batch Normalization, Regularization and GlobalAveragePooling2D layers.\n",
    "* The last layer is the output layer with 10 neurons (number of output classes) and it uses softmax activation function as we have multi-classes. Each neuron will give the probability of that class.\n",
    "\n",
    "I used categorical_crossentropy as a loss function because its a multi-class classification problem. I used accuracy as metrics to improve the performance of our neural network."
   ]
  },
  {
   "cell_type": "markdown",
   "metadata": {
    "colab_type": "text",
    "id": "_GdoRPe6LiRV"
   },
   "source": [
    "## Model Summary And Visualization"
   ]
  },
  {
   "cell_type": "markdown",
   "metadata": {
    "colab_type": "text",
    "id": "RLAADtoKMkcB"
   },
   "source": [
    "Let's see the model summary."
   ]
  },
  {
   "cell_type": "code",
   "execution_count": 23,
   "metadata": {
    "colab": {
     "base_uri": "https://localhost:8080/",
     "height": 748
    },
    "colab_type": "code",
    "executionInfo": {
     "elapsed": 2480,
     "status": "ok",
     "timestamp": 1537570504179,
     "user": {
      "displayName": "Amr Hendy",
      "photoUrl": "//lh4.googleusercontent.com/-dRbE1ZGijO8/AAAAAAAAAAI/AAAAAAAAANg/YkTGbPMb_FQ/s50-c-k-no/photo.jpg",
      "userId": "116082760662520987778"
     },
     "user_tz": -120
    },
    "id": "GzgiwjyPLmrp",
    "outputId": "a0994d53-e0fa-44e1-b059-89175b84b242"
   },
   "outputs": [
    {
     "name": "stdout",
     "output_type": "stream",
     "text": [
      "_________________________________________________________________\n",
      "Layer (type)                 Output Shape              Param #   \n",
      "=================================================================\n",
      "conv2d_1 (Conv2D)            (None, 64, 64, 16)        160       \n",
      "_________________________________________________________________\n",
      "batch_normalization_1 (Batch (None, 64, 64, 16)        64        \n",
      "_________________________________________________________________\n",
      "max_pooling2d_1 (MaxPooling2 (None, 32, 32, 16)        0         \n",
      "_________________________________________________________________\n",
      "dropout_1 (Dropout)          (None, 32, 32, 16)        0         \n",
      "_________________________________________________________________\n",
      "conv2d_2 (Conv2D)            (None, 32, 32, 32)        4640      \n",
      "_________________________________________________________________\n",
      "batch_normalization_2 (Batch (None, 32, 32, 32)        128       \n",
      "_________________________________________________________________\n",
      "max_pooling2d_2 (MaxPooling2 (None, 16, 16, 32)        0         \n",
      "_________________________________________________________________\n",
      "dropout_2 (Dropout)          (None, 16, 16, 32)        0         \n",
      "_________________________________________________________________\n",
      "conv2d_3 (Conv2D)            (None, 16, 16, 64)        18496     \n",
      "_________________________________________________________________\n",
      "batch_normalization_3 (Batch (None, 16, 16, 64)        256       \n",
      "_________________________________________________________________\n",
      "max_pooling2d_3 (MaxPooling2 (None, 8, 8, 64)          0         \n",
      "_________________________________________________________________\n",
      "dropout_3 (Dropout)          (None, 8, 8, 64)          0         \n",
      "_________________________________________________________________\n",
      "conv2d_4 (Conv2D)            (None, 8, 8, 128)         73856     \n",
      "_________________________________________________________________\n",
      "batch_normalization_4 (Batch (None, 8, 8, 128)         512       \n",
      "_________________________________________________________________\n",
      "max_pooling2d_4 (MaxPooling2 (None, 4, 4, 128)         0         \n",
      "_________________________________________________________________\n",
      "dropout_4 (Dropout)          (None, 4, 4, 128)         0         \n",
      "_________________________________________________________________\n",
      "global_average_pooling2d_1 ( (None, 128)               0         \n",
      "_________________________________________________________________\n",
      "dense_1 (Dense)              (None, 38)                4902      \n",
      "=================================================================\n",
      "Total params: 103,014\n",
      "Trainable params: 102,534\n",
      "Non-trainable params: 480\n",
      "_________________________________________________________________\n"
     ]
    }
   ],
   "source": [
    "model = create_model()\n",
    "model.summary()"
   ]
  },
  {
   "cell_type": "markdown",
   "metadata": {
    "colab_type": "text",
    "id": "F-WXi7zkLxuN"
   },
   "source": [
    "Keras support plotting the model in keras.utils.vis_utils module which provides utility functions to plot a Keras model using graphviz.\n",
    "\n",
    "To be able to use that utility we should first install pydot and graphviz modules. This can be done by running the following code cell then restart the runtime environment."
   ]
  },
  {
   "cell_type": "code",
   "execution_count": 24,
   "metadata": {
    "colab": {
     "base_uri": "https://localhost:8080/",
     "height": 1989
    },
    "colab_type": "code",
    "executionInfo": {
     "elapsed": 14864,
     "status": "ok",
     "timestamp": 1537570062715,
     "user": {
      "displayName": "Amr Hendy",
      "photoUrl": "//lh4.googleusercontent.com/-dRbE1ZGijO8/AAAAAAAAAAI/AAAAAAAAANg/YkTGbPMb_FQ/s50-c-k-no/photo.jpg",
      "userId": "116082760662520987778"
     },
     "user_tz": -120
    },
    "id": "uIL81Yib39V6",
    "outputId": "49afb7a2-3b46-48b0-d7e6-7a99ed6d723b"
   },
   "outputs": [
    {
     "name": "stdout",
     "output_type": "stream",
     "text": [
      "Selecting previously unselected package fontconfig.\n",
      "(Reading database ... \r",
      "(Reading database ... 5%\r",
      "(Reading database ... 10%\r",
      "(Reading database ... 15%\r",
      "(Reading database ... 20%\r",
      "(Reading database ... 25%\r",
      "(Reading database ... 30%\r",
      "(Reading database ... 35%\r",
      "(Reading database ... 40%\r",
      "(Reading database ... 45%\r",
      "(Reading database ... 50%\r",
      "(Reading database ... 55%\r",
      "(Reading database ... 60%\r",
      "(Reading database ... 65%\r",
      "(Reading database ... 70%\r",
      "(Reading database ... 75%\r",
      "(Reading database ... 80%\r",
      "(Reading database ... 85%\r",
      "(Reading database ... 90%\r",
      "(Reading database ... 95%\r",
      "(Reading database ... 100%\r",
      "(Reading database ... 18408 files and directories currently installed.)\n",
      "Preparing to unpack .../00-fontconfig_2.11.94-0ubuntu2_amd64.deb ...\n",
      "Unpacking fontconfig (2.11.94-0ubuntu2) ...\n",
      "Selecting previously unselected package libjbig0:amd64.\n",
      "Preparing to unpack .../01-libjbig0_2.1-3.1_amd64.deb ...\n",
      "Unpacking libjbig0:amd64 (2.1-3.1) ...\n",
      "Selecting previously unselected package libcdt5.\n",
      "Preparing to unpack .../02-libcdt5_2.38.0-16ubuntu2_amd64.deb ...\n",
      "Unpacking libcdt5 (2.38.0-16ubuntu2) ...\n",
      "Selecting previously unselected package libcgraph6.\n",
      "Preparing to unpack .../03-libcgraph6_2.38.0-16ubuntu2_amd64.deb ...\n",
      "Unpacking libcgraph6 (2.38.0-16ubuntu2) ...\n",
      "Selecting previously unselected package libtiff5:amd64.\n",
      "Preparing to unpack .../04-libtiff5_4.0.8-5ubuntu0.1_amd64.deb ...\n",
      "Unpacking libtiff5:amd64 (4.0.8-5ubuntu0.1) ...\n",
      "Selecting previously unselected package libwebp6:amd64.\n",
      "Preparing to unpack .../05-libwebp6_0.6.0-3_amd64.deb ...\n",
      "Unpacking libwebp6:amd64 (0.6.0-3) ...\n",
      "Selecting previously unselected package libxpm4:amd64.\n",
      "Preparing to unpack .../06-libxpm4_1%3a3.5.12-1_amd64.deb ...\n",
      "Unpacking libxpm4:amd64 (1:3.5.12-1) ...\n",
      "Selecting previously unselected package libgd3:amd64.\n",
      "Preparing to unpack .../07-libgd3_2.2.5-3_amd64.deb ...\n",
      "Unpacking libgd3:amd64 (2.2.5-3) ...\n",
      "Selecting previously unselected package libpixman-1-0:amd64.\n",
      "Preparing to unpack .../08-libpixman-1-0_0.34.0-1_amd64.deb ...\n",
      "Unpacking libpixman-1-0:amd64 (0.34.0-1) ...\n",
      "Selecting previously unselected package libxcb-render0:amd64.\n",
      "Preparing to unpack .../09-libxcb-render0_1.12-1ubuntu1_amd64.deb ...\n",
      "Unpacking libxcb-render0:amd64 (1.12-1ubuntu1) ...\n",
      "Selecting previously unselected package libxcb-shm0:amd64.\n",
      "Preparing to unpack .../10-libxcb-shm0_1.12-1ubuntu1_amd64.deb ...\n",
      "Unpacking libxcb-shm0:amd64 (1.12-1ubuntu1) ...\n",
      "Selecting previously unselected package libcairo2:amd64.\n",
      "Preparing to unpack .../11-libcairo2_1.14.10-1ubuntu1_amd64.deb ...\n",
      "Unpacking libcairo2:amd64 (1.14.10-1ubuntu1) ...\n",
      "Selecting previously unselected package libltdl7:amd64.\n",
      "Preparing to unpack .../12-libltdl7_2.4.6-2_amd64.deb ...\n",
      "Unpacking libltdl7:amd64 (2.4.6-2) ...\n",
      "Selecting previously unselected package libthai-data.\n",
      "Preparing to unpack .../13-libthai-data_0.1.26-3_all.deb ...\n",
      "Unpacking libthai-data (0.1.26-3) ...\n",
      "Selecting previously unselected package libdatrie1:amd64.\n",
      "Preparing to unpack .../14-libdatrie1_0.2.10-5_amd64.deb ...\n",
      "Unpacking libdatrie1:amd64 (0.2.10-5) ...\n",
      "Selecting previously unselected package libthai0:amd64.\n",
      "Preparing to unpack .../15-libthai0_0.1.26-3_amd64.deb ...\n",
      "Unpacking libthai0:amd64 (0.1.26-3) ...\n",
      "Selecting previously unselected package libpango-1.0-0:amd64.\n",
      "Preparing to unpack .../16-libpango-1.0-0_1.40.12-1_amd64.deb ...\n",
      "Unpacking libpango-1.0-0:amd64 (1.40.12-1) ...\n",
      "Selecting previously unselected package libgraphite2-3:amd64.\n",
      "Preparing to unpack .../17-libgraphite2-3_1.3.10-2_amd64.deb ...\n",
      "Unpacking libgraphite2-3:amd64 (1.3.10-2) ...\n",
      "Selecting previously unselected package libharfbuzz0b:amd64.\n",
      "Preparing to unpack .../18-libharfbuzz0b_1.4.2-1_amd64.deb ...\n",
      "Unpacking libharfbuzz0b:amd64 (1.4.2-1) ...\n",
      "Selecting previously unselected package libpangoft2-1.0-0:amd64.\n",
      "Preparing to unpack .../19-libpangoft2-1.0-0_1.40.12-1_amd64.deb ...\n",
      "Unpacking libpangoft2-1.0-0:amd64 (1.40.12-1) ...\n",
      "Selecting previously unselected package libpangocairo-1.0-0:amd64.\n",
      "Preparing to unpack .../20-libpangocairo-1.0-0_1.40.12-1_amd64.deb ...\n",
      "Unpacking libpangocairo-1.0-0:amd64 (1.40.12-1) ...\n",
      "Selecting previously unselected package libpathplan4.\n",
      "Preparing to unpack .../21-libpathplan4_2.38.0-16ubuntu2_amd64.deb ...\n",
      "Unpacking libpathplan4 (2.38.0-16ubuntu2) ...\n",
      "Selecting previously unselected package libgvc6.\n",
      "Preparing to unpack .../22-libgvc6_2.38.0-16ubuntu2_amd64.deb ...\n",
      "Unpacking libgvc6 (2.38.0-16ubuntu2) ...\n",
      "Selecting previously unselected package libgvpr2.\n",
      "Preparing to unpack .../23-libgvpr2_2.38.0-16ubuntu2_amd64.deb ...\n",
      "Unpacking libgvpr2 (2.38.0-16ubuntu2) ...\n",
      "Selecting previously unselected package libxt6:amd64.\n",
      "Preparing to unpack .../24-libxt6_1%3a1.1.5-1_amd64.deb ...\n",
      "Unpacking libxt6:amd64 (1:1.1.5-1) ...\n",
      "Selecting previously unselected package libxmu6:amd64.\n",
      "Preparing to unpack .../25-libxmu6_2%3a1.1.2-2_amd64.deb ...\n",
      "Unpacking libxmu6:amd64 (2:1.1.2-2) ...\n",
      "Selecting previously unselected package libxaw7:amd64.\n",
      "Preparing to unpack .../26-libxaw7_2%3a1.0.13-1_amd64.deb ...\n",
      "Unpacking libxaw7:amd64 (2:1.0.13-1) ...\n",
      "Selecting previously unselected package graphviz.\n",
      "Preparing to unpack .../27-graphviz_2.38.0-16ubuntu2_amd64.deb ...\n",
      "Unpacking graphviz (2.38.0-16ubuntu2) ...\n",
      "Setting up libpathplan4 (2.38.0-16ubuntu2) ...\n",
      "Setting up libxcb-render0:amd64 (1.12-1ubuntu1) ...\n",
      "Setting up libjbig0:amd64 (2.1-3.1) ...\n",
      "Setting up libdatrie1:amd64 (0.2.10-5) ...\n",
      "Setting up libtiff5:amd64 (4.0.8-5ubuntu0.1) ...\n",
      "Setting up libgraphite2-3:amd64 (1.3.10-2) ...\n",
      "Setting up libpixman-1-0:amd64 (0.34.0-1) ...\n",
      "Processing triggers for libc-bin (2.26-0ubuntu2.1) ...\n",
      "Setting up libltdl7:amd64 (2.4.6-2) ...\n",
      "Setting up libxcb-shm0:amd64 (1.12-1ubuntu1) ...\n",
      "Setting up libxpm4:amd64 (1:3.5.12-1) ...\n",
      "Setting up libxt6:amd64 (1:1.1.5-1) ...\n",
      "Setting up libthai-data (0.1.26-3) ...\n",
      "Setting up libcdt5 (2.38.0-16ubuntu2) ...\n",
      "Setting up fontconfig (2.11.94-0ubuntu2) ...\n",
      "Regenerating fonts cache... done.\n",
      "Setting up libcgraph6 (2.38.0-16ubuntu2) ...\n",
      "Setting up libwebp6:amd64 (0.6.0-3) ...\n",
      "Setting up libcairo2:amd64 (1.14.10-1ubuntu1) ...\n",
      "Setting up libgvpr2 (2.38.0-16ubuntu2) ...\n",
      "Setting up libgd3:amd64 (2.2.5-3) ...\n",
      "Setting up libharfbuzz0b:amd64 (1.4.2-1) ...\n",
      "Setting up libthai0:amd64 (0.1.26-3) ...\n",
      "Setting up libxmu6:amd64 (2:1.1.2-2) ...\n",
      "Setting up libpango-1.0-0:amd64 (1.40.12-1) ...\n",
      "Setting up libxaw7:amd64 (2:1.0.13-1) ...\n",
      "Setting up libpangoft2-1.0-0:amd64 (1.40.12-1) ...\n",
      "Setting up libpangocairo-1.0-0:amd64 (1.40.12-1) ...\n",
      "Setting up libgvc6 (2.38.0-16ubuntu2) ...\n",
      "Setting up graphviz (2.38.0-16ubuntu2) ...\n",
      "Processing triggers for libc-bin (2.26-0ubuntu2.1) ...\n"
     ]
    }
   ],
   "source": [
    "# https://pypi.python.org/pypi/pydot\n",
    "!apt-get -qq install -y graphviz && pip install -q pydot\n",
    "import pydot"
   ]
  },
  {
   "cell_type": "markdown",
   "metadata": {
    "colab_type": "text",
    "id": "eyEMpJx3MttP"
   },
   "source": [
    "Now we can plot the model and save it to a file also."
   ]
  },
  {
   "cell_type": "code",
   "execution_count": 24,
   "metadata": {
    "colab": {
     "base_uri": "https://localhost:8080/",
     "height": 2082
    },
    "colab_type": "code",
    "executionInfo": {
     "elapsed": 3556,
     "status": "ok",
     "timestamp": 1537570507791,
     "user": {
      "displayName": "Amr Hendy",
      "photoUrl": "//lh4.googleusercontent.com/-dRbE1ZGijO8/AAAAAAAAAAI/AAAAAAAAANg/YkTGbPMb_FQ/s50-c-k-no/photo.jpg",
      "userId": "116082760662520987778"
     },
     "user_tz": -120
    },
    "id": "B1zpgDtwMtEU",
    "outputId": "c8985530-4076-4511-e982-64e194a1af74"
   },
   "outputs": [
    {
     "data": {
      "image/png": "[encoded data removed]",
      "text/plain": [
       "<IPython.core.display.Image object>"
      ]
     },
     "metadata": {
      "tags": []
     },
     "output_type": "display_data"
    }
   ],
   "source": [
    "from keras.utils import plot_model\n",
    "\n",
    "plot_model(model, to_file=\"model.png\", show_shapes=True)\n",
    "from IPython.display import Image as IPythonImage\n",
    "display(IPythonImage('model.png'))"
   ]
  },
  {
   "cell_type": "markdown",
   "metadata": {
    "colab_type": "text",
    "id": "XKburGrWjUug"
   },
   "source": [
    "## Parameters Tuning"
   ]
  },
  {
   "cell_type": "markdown",
   "metadata": {
    "colab_type": "text",
    "id": "Oz6ZOYT5jde-"
   },
   "source": [
    "We will tune the parameters optimizer, kernel_initializer and activation."
   ]
  },
  {
   "cell_type": "code",
   "execution_count": 25,
   "metadata": {
    "colab": {
     "base_uri": "https://localhost:8080/",
     "height": 34
    },
    "colab_type": "code",
    "executionInfo": {
     "elapsed": 1853,
     "status": "ok",
     "timestamp": 1537570509726,
     "user": {
      "displayName": "Amr Hendy",
      "photoUrl": "//lh4.googleusercontent.com/-dRbE1ZGijO8/AAAAAAAAAAI/AAAAAAAAANg/YkTGbPMb_FQ/s50-c-k-no/photo.jpg",
      "userId": "116082760662520987778"
     },
     "user_tz": -120
    },
    "id": "iqd8pUpo1vC3",
    "outputId": "e8b9bd6f-c30f-4325-e368-877abff2e31f"
   },
   "outputs": [
    {
     "name": "stdout",
     "output_type": "stream",
     "text": [
      "Number of different parameter combinations = 24\n"
     ]
    }
   ],
   "source": [
    "# fix random seed for reproducibility\n",
    "seed = 7\n",
    "np.random.seed(seed)\n",
    "\n",
    "# define the grid search parameters\n",
    "optimizer = ['RMSprop', 'Adam', 'Adagrad', 'Nadam']\n",
    "kernel_initializer = ['normal', 'uniform']\n",
    "activation = ['relu', 'linear', 'tanh']\n",
    "\n",
    "param_grid = dict(optimizer=optimizer, kernel_initializer=kernel_initializer, activation=activation)\n",
    "\n",
    "# count number of different parameters values combinations\n",
    "parameters_number = 1\n",
    "for x in param_grid:\n",
    "  parameters_number = parameters_number * len(param_grid[x]) \n",
    "print(\"Number of different parameter combinations = {}\".format(parameters_number))"
   ]
  },
  {
   "cell_type": "markdown",
   "metadata": {
    "colab_type": "text",
    "id": "rn5e1UWniPmD"
   },
   "source": [
    "We will try different models with different parameters to find the best parameter values."
   ]
  },
  {
   "cell_type": "code",
   "execution_count": 26,
   "metadata": {
    "colab": {
     "base_uri": "https://localhost:8080/",
     "height": 5341
    },
    "colab_type": "code",
    "executionInfo": {
     "elapsed": 10697207,
     "status": "ok",
     "timestamp": 1537581207010,
     "user": {
      "displayName": "Amr Hendy",
      "photoUrl": "//lh4.googleusercontent.com/-dRbE1ZGijO8/AAAAAAAAAAI/AAAAAAAAANg/YkTGbPMb_FQ/s50-c-k-no/photo.jpg",
      "userId": "116082760662520987778"
     },
     "user_tz": -120
    },
    "id": "kbtGq865gbEW",
    "outputId": "628f25ba-bd1f-4101-f64b-00f07395a0e4"
   },
   "outputs": [
    {
     "name": "stdout",
     "output_type": "stream",
     "text": [
      "{'optimizer': 'RMSprop', 'kernel_initializer': 'normal', 'activation': 'relu'}\n",
      "Train on 73440 samples, validate on 13360 samples\n",
      "Epoch 1/5\n",
      "73440/73440 [==============================] - 84s 1ms/step - loss: 0.3349 - acc: 0.9089 - val_loss: 2.4386 - val_acc: 0.5037\n",
      "Epoch 2/5\n",
      "73440/73440 [==============================] - 82s 1ms/step - loss: 0.1106 - acc: 0.9670 - val_loss: 0.1605 - val_acc: 0.9507\n",
      "Epoch 3/5\n",
      "73440/73440 [==============================] - 81s 1ms/step - loss: 0.0865 - acc: 0.9738 - val_loss: 0.1138 - val_acc: 0.9665\n",
      "Epoch 4/5\n",
      "73440/73440 [==============================] - 81s 1ms/step - loss: 0.0788 - acc: 0.9772 - val_loss: 2.5557 - val_acc: 0.5233\n",
      "Epoch 5/5\n",
      "73440/73440 [==============================] - 81s 1ms/step - loss: 0.0710 - acc: 0.9788 - val_loss: 0.1519 - val_acc: 0.9559\n",
      "=============================================================================\n",
      "{'optimizer': 'RMSprop', 'kernel_initializer': 'uniform', 'activation': 'relu'}\n",
      "Train on 73440 samples, validate on 13360 samples\n",
      "Epoch 1/5\n",
      "73440/73440 [==============================] - 83s 1ms/step - loss: 0.3012 - acc: 0.9181 - val_loss: 0.3428 - val_acc: 0.8807\n",
      "Epoch 2/5\n",
      "73440/73440 [==============================] - 82s 1ms/step - loss: 0.1075 - acc: 0.9672 - val_loss: 0.1243 - val_acc: 0.9611\n",
      "Epoch 3/5\n",
      "73440/73440 [==============================] - 82s 1ms/step - loss: 0.0875 - acc: 0.9734 - val_loss: 0.0698 - val_acc: 0.9793\n",
      "Epoch 4/5\n",
      "73440/73440 [==============================] - 81s 1ms/step - loss: 0.0793 - acc: 0.9761 - val_loss: 7.7491 - val_acc: 0.3073\n",
      "Epoch 5/5\n",
      "73440/73440 [==============================] - 81s 1ms/step - loss: 0.0727 - acc: 0.9780 - val_loss: 3.6094 - val_acc: 0.5719\n",
      "=============================================================================\n",
      "{'optimizer': 'RMSprop', 'kernel_initializer': 'normal', 'activation': 'linear'}\n",
      "Train on 73440 samples, validate on 13360 samples\n",
      "Epoch 1/5\n",
      "73440/73440 [==============================] - 81s 1ms/step - loss: 0.6358 - acc: 0.8246 - val_loss: 0.5407 - val_acc: 0.8210\n",
      "Epoch 2/5\n",
      "73440/73440 [==============================] - 80s 1ms/step - loss: 0.2895 - acc: 0.9135 - val_loss: 0.3693 - val_acc: 0.8883\n",
      "Epoch 3/5\n",
      "73440/73440 [==============================] - 80s 1ms/step - loss: 0.2099 - acc: 0.9368 - val_loss: 0.1959 - val_acc: 0.9409\n",
      "Epoch 4/5\n",
      "73440/73440 [==============================] - 80s 1ms/step - loss: 0.1700 - acc: 0.9478 - val_loss: 2.2486 - val_acc: 0.7231\n",
      "Epoch 5/5\n",
      "73440/73440 [==============================] - 80s 1ms/step - loss: 0.1494 - acc: 0.9535 - val_loss: 1.5786 - val_acc: 0.6550\n",
      "=============================================================================\n",
      "{'optimizer': 'RMSprop', 'kernel_initializer': 'uniform', 'activation': 'linear'}\n",
      "Train on 73440 samples, validate on 13360 samples\n",
      "Epoch 1/5\n",
      "73440/73440 [==============================] - 82s 1ms/step - loss: 0.5886 - acc: 0.8377 - val_loss: 0.4105 - val_acc: 0.8868\n",
      "Epoch 2/5\n",
      "73440/73440 [==============================] - 80s 1ms/step - loss: 0.2662 - acc: 0.9196 - val_loss: 0.3536 - val_acc: 0.8877\n",
      "Epoch 3/5\n",
      "73440/73440 [==============================] - 80s 1ms/step - loss: 0.1943 - acc: 0.9400 - val_loss: 10.3813 - val_acc: 0.1775\n",
      "Epoch 4/5\n",
      "73440/73440 [==============================] - 80s 1ms/step - loss: 0.1643 - acc: 0.9488 - val_loss: 1.0918 - val_acc: 0.6720\n",
      "Epoch 5/5\n",
      "73440/73440 [==============================] - 80s 1ms/step - loss: 0.1426 - acc: 0.9559 - val_loss: 0.3167 - val_acc: 0.8961\n",
      "=============================================================================\n",
      "{'optimizer': 'RMSprop', 'kernel_initializer': 'normal', 'activation': 'tanh'}\n",
      "Train on 73440 samples, validate on 13360 samples\n",
      "Epoch 1/5\n",
      "73440/73440 [==============================] - 83s 1ms/step - loss: 0.4914 - acc: 0.8685 - val_loss: 2.6090 - val_acc: 0.5469\n",
      "Epoch 2/5\n",
      "73440/73440 [==============================] - 82s 1ms/step - loss: 0.1908 - acc: 0.9409 - val_loss: 1.9058 - val_acc: 0.6582\n",
      "Epoch 3/5\n",
      "73440/73440 [==============================] - 82s 1ms/step - loss: 0.1584 - acc: 0.9510 - val_loss: 0.5578 - val_acc: 0.8564\n",
      "Epoch 4/5\n",
      "73440/73440 [==============================] - 82s 1ms/step - loss: 0.1438 - acc: 0.9553 - val_loss: 0.3582 - val_acc: 0.8997\n",
      "Epoch 5/5\n",
      "73440/73440 [==============================] - 82s 1ms/step - loss: 0.1337 - acc: 0.9591 - val_loss: 0.7828 - val_acc: 0.8272\n",
      "=============================================================================\n",
      "{'optimizer': 'RMSprop', 'kernel_initializer': 'uniform', 'activation': 'tanh'}\n",
      "Train on 73440 samples, validate on 13360 samples\n",
      "Epoch 1/5\n",
      "73440/73440 [==============================] - 84s 1ms/step - loss: 0.4230 - acc: 0.8841 - val_loss: 0.8043 - val_acc: 0.7874\n",
      "Epoch 2/5\n",
      "73440/73440 [==============================] - 83s 1ms/step - loss: 0.1744 - acc: 0.9474 - val_loss: 1.0021 - val_acc: 0.7788\n",
      "Epoch 3/5\n",
      "73440/73440 [==============================] - 82s 1ms/step - loss: 0.1511 - acc: 0.9531 - val_loss: 0.4386 - val_acc: 0.8782\n",
      "Epoch 4/5\n",
      "73440/73440 [==============================] - 82s 1ms/step - loss: 0.1372 - acc: 0.9571 - val_loss: 3.2566 - val_acc: 0.3754\n",
      "Epoch 5/5\n",
      "73440/73440 [==============================] - 82s 1ms/step - loss: 0.1308 - acc: 0.9600 - val_loss: 0.4176 - val_acc: 0.8881\n",
      "=============================================================================\n",
      "{'optimizer': 'Adam', 'kernel_initializer': 'normal', 'activation': 'relu'}\n",
      "Train on 73440 samples, validate on 13360 samples\n",
      "Epoch 1/5\n",
      "73440/73440 [==============================] - 90s 1ms/step - loss: 0.3496 - acc: 0.9075 - val_loss: 6.2671 - val_acc: 0.2249\n",
      "Epoch 2/5\n",
      "73440/73440 [==============================] - 89s 1ms/step - loss: 0.1066 - acc: 0.9679 - val_loss: 0.2868 - val_acc: 0.9138\n",
      "Epoch 3/5\n",
      "73440/73440 [==============================] - 89s 1ms/step - loss: 0.0800 - acc: 0.9755 - val_loss: 0.1065 - val_acc: 0.9688\n",
      "Epoch 4/5\n",
      "73440/73440 [==============================] - 89s 1ms/step - loss: 0.0692 - acc: 0.9782 - val_loss: 0.0776 - val_acc: 0.9775\n",
      "Epoch 5/5\n",
      "73440/73440 [==============================] - 89s 1ms/step - loss: 0.0581 - acc: 0.9820 - val_loss: 0.2886 - val_acc: 0.9206\n",
      "=============================================================================\n",
      "{'optimizer': 'Adam', 'kernel_initializer': 'uniform', 'activation': 'relu'}\n",
      "Train on 73440 samples, validate on 13360 samples\n",
      "Epoch 1/5\n",
      "73440/73440 [==============================] - 92s 1ms/step - loss: 0.3284 - acc: 0.9116 - val_loss: 1.2440 - val_acc: 0.7041\n",
      "Epoch 2/5\n",
      "73440/73440 [==============================] - 90s 1ms/step - loss: 0.1081 - acc: 0.9666 - val_loss: 1.4073 - val_acc: 0.7209\n",
      "Epoch 3/5\n",
      "73440/73440 [==============================] - 90s 1ms/step - loss: 0.0826 - acc: 0.9748 - val_loss: 0.5529 - val_acc: 0.8179\n",
      "Epoch 4/5\n",
      "73440/73440 [==============================] - 90s 1ms/step - loss: 0.0669 - acc: 0.9794 - val_loss: 0.0744 - val_acc: 0.9786\n",
      "Epoch 5/5\n",
      "73440/73440 [==============================] - 90s 1ms/step - loss: 0.0618 - acc: 0.9812 - val_loss: 0.0576 - val_acc: 0.9831\n",
      "=============================================================================\n",
      "{'optimizer': 'Adam', 'kernel_initializer': 'normal', 'activation': 'linear'}\n",
      "Train on 73440 samples, validate on 13360 samples\n",
      "Epoch 1/5\n",
      "73440/73440 [==============================] - 91s 1ms/step - loss: 0.6370 - acc: 0.8235 - val_loss: 2.8734 - val_acc: 0.6292\n",
      "Epoch 2/5\n",
      "73440/73440 [==============================] - 88s 1ms/step - loss: 0.2778 - acc: 0.9138 - val_loss: 0.3445 - val_acc: 0.8853\n",
      "Epoch 3/5\n",
      "73440/73440 [==============================] - 88s 1ms/step - loss: 0.2002 - acc: 0.9372 - val_loss: 0.2580 - val_acc: 0.9189\n",
      "Epoch 4/5\n",
      "73440/73440 [==============================] - 89s 1ms/step - loss: 0.1637 - acc: 0.9491 - val_loss: 2.0659 - val_acc: 0.4595\n",
      "Epoch 5/5\n",
      "73440/73440 [==============================] - 88s 1ms/step - loss: 0.1404 - acc: 0.9550 - val_loss: 0.1368 - val_acc: 0.9581\n",
      "=============================================================================\n",
      "{'optimizer': 'Adam', 'kernel_initializer': 'uniform', 'activation': 'linear'}\n",
      "Train on 73440 samples, validate on 13360 samples\n",
      "Epoch 1/5\n",
      "73440/73440 [==============================] - 92s 1ms/step - loss: 0.5804 - acc: 0.8396 - val_loss: 0.9485 - val_acc: 0.7478\n",
      "Epoch 2/5\n",
      "73440/73440 [==============================] - 90s 1ms/step - loss: 0.2529 - acc: 0.9237 - val_loss: 8.6808 - val_acc: 0.1462\n",
      "Epoch 3/5\n",
      "73440/73440 [==============================] - 88s 1ms/step - loss: 0.1825 - acc: 0.9431 - val_loss: 0.2915 - val_acc: 0.9082\n",
      "Epoch 4/5\n",
      "73440/73440 [==============================] - 87s 1ms/step - loss: 0.1507 - acc: 0.9539 - val_loss: 0.2655 - val_acc: 0.9148\n",
      "Epoch 5/5\n",
      "73440/73440 [==============================] - 87s 1ms/step - loss: 0.1319 - acc: 0.9585 - val_loss: 0.5280 - val_acc: 0.8577\n",
      "=============================================================================\n",
      "{'optimizer': 'Adam', 'kernel_initializer': 'normal', 'activation': 'tanh'}\n",
      "Train on 73440 samples, validate on 13360 samples\n",
      "Epoch 1/5\n",
      "73440/73440 [==============================] - 92s 1ms/step - loss: 0.5181 - acc: 0.8634 - val_loss: 2.0401 - val_acc: 0.3782\n",
      "Epoch 2/5\n",
      "73440/73440 [==============================] - 89s 1ms/step - loss: 0.1895 - acc: 0.9414 - val_loss: 6.7160 - val_acc: 0.3058\n",
      "Epoch 3/5\n",
      "73440/73440 [==============================] - 87s 1ms/step - loss: 0.1503 - acc: 0.9522 - val_loss: 2.1043 - val_acc: 0.6128\n",
      "Epoch 4/5\n",
      "73440/73440 [==============================] - 89s 1ms/step - loss: 0.1358 - acc: 0.9579 - val_loss: 3.8762 - val_acc: 0.6211\n",
      "Epoch 5/5\n",
      "73440/73440 [==============================] - 89s 1ms/step - loss: 0.1225 - acc: 0.9610 - val_loss: 2.0894 - val_acc: 0.5716\n",
      "=============================================================================\n",
      "{'optimizer': 'Adam', 'kernel_initializer': 'uniform', 'activation': 'tanh'}\n",
      "Train on 73440 samples, validate on 13360 samples\n",
      "Epoch 1/5\n",
      "73440/73440 [==============================] - 93s 1ms/step - loss: 0.4551 - acc: 0.8800 - val_loss: 0.4224 - val_acc: 0.8805\n",
      "Epoch 2/5\n",
      "73440/73440 [==============================] - 90s 1ms/step - loss: 0.1675 - acc: 0.9494 - val_loss: 7.1558 - val_acc: 0.2093\n",
      "Epoch 3/5\n",
      "73440/73440 [==============================] - 89s 1ms/step - loss: 0.1372 - acc: 0.9566 - val_loss: 0.2988 - val_acc: 0.9068\n",
      "Epoch 4/5\n",
      "73440/73440 [==============================] - 90s 1ms/step - loss: 0.1215 - acc: 0.9623 - val_loss: 0.4133 - val_acc: 0.8790\n",
      "Epoch 5/5\n",
      "73440/73440 [==============================] - 89s 1ms/step - loss: 0.1142 - acc: 0.9644 - val_loss: 1.3391 - val_acc: 0.6110\n",
      "=============================================================================\n",
      "{'optimizer': 'Adagrad', 'kernel_initializer': 'normal', 'activation': 'relu'}\n",
      "Train on 73440 samples, validate on 13360 samples\n",
      "Epoch 1/5\n",
      "73440/73440 [==============================] - 87s 1ms/step - loss: 0.4422 - acc: 0.8875 - val_loss: 1.2394 - val_acc: 0.6644\n",
      "Epoch 2/5\n",
      "73440/73440 [==============================] - 83s 1ms/step - loss: 0.1884 - acc: 0.9509 - val_loss: 0.2345 - val_acc: 0.9350\n",
      "Epoch 3/5\n",
      "73440/73440 [==============================] - 83s 1ms/step - loss: 0.1396 - acc: 0.9618 - val_loss: 0.1238 - val_acc: 0.9647\n",
      "Epoch 4/5\n",
      "73440/73440 [==============================] - 83s 1ms/step - loss: 0.1167 - acc: 0.9677 - val_loss: 0.2001 - val_acc: 0.9427\n",
      "Epoch 5/5\n",
      "73440/73440 [==============================] - 83s 1ms/step - loss: 0.1036 - acc: 0.9707 - val_loss: 0.1052 - val_acc: 0.9710\n",
      "=============================================================================\n",
      "{'optimizer': 'Adagrad', 'kernel_initializer': 'uniform', 'activation': 'relu'}\n",
      "Train on 73440 samples, validate on 13360 samples\n",
      "Epoch 1/5\n",
      "73440/73440 [==============================] - 87s 1ms/step - loss: 0.3526 - acc: 0.9115 - val_loss: 0.1827 - val_acc: 0.9504\n",
      "Epoch 2/5\n",
      "73440/73440 [==============================] - 83s 1ms/step - loss: 0.1402 - acc: 0.9631 - val_loss: 0.1405 - val_acc: 0.9637\n",
      "Epoch 3/5\n",
      "73440/73440 [==============================] - 84s 1ms/step - loss: 0.1052 - acc: 0.9715 - val_loss: 0.1036 - val_acc: 0.9696\n",
      "Epoch 4/5\n",
      "73440/73440 [==============================] - 83s 1ms/step - loss: 0.0890 - acc: 0.9755 - val_loss: 0.0966 - val_acc: 0.9773\n",
      "Epoch 5/5\n",
      "73440/73440 [==============================] - 84s 1ms/step - loss: 0.0780 - acc: 0.9790 - val_loss: 0.0855 - val_acc: 0.9796\n",
      "=============================================================================\n",
      "{'optimizer': 'Adagrad', 'kernel_initializer': 'normal', 'activation': 'linear'}\n",
      "Train on 73440 samples, validate on 13360 samples\n",
      "Epoch 1/5\n",
      "73440/73440 [==============================] - 86s 1ms/step - loss: 0.7344 - acc: 0.8080 - val_loss: 0.6743 - val_acc: 0.8025\n",
      "Epoch 2/5\n",
      "73440/73440 [==============================] - 82s 1ms/step - loss: 0.4684 - acc: 0.8702 - val_loss: 0.5411 - val_acc: 0.8420\n",
      "Epoch 3/5\n",
      "73440/73440 [==============================] - 84s 1ms/step - loss: 0.3942 - acc: 0.8899 - val_loss: 0.4227 - val_acc: 0.8801\n",
      "Epoch 4/5\n",
      "73440/73440 [==============================] - 88s 1ms/step - loss: 0.3465 - acc: 0.9031 - val_loss: 0.3989 - val_acc: 0.8791\n",
      "Epoch 5/5\n",
      "73440/73440 [==============================] - 85s 1ms/step - loss: 0.3127 - acc: 0.9124 - val_loss: 0.4164 - val_acc: 0.8647\n",
      "=============================================================================\n",
      "{'optimizer': 'Adagrad', 'kernel_initializer': 'uniform', 'activation': 'linear'}\n",
      "Train on 73440 samples, validate on 13360 samples\n",
      "Epoch 1/5\n",
      "73440/73440 [==============================] - 88s 1ms/step - loss: 0.6657 - acc: 0.8253 - val_loss: 0.6107 - val_acc: 0.8263\n",
      "Epoch 2/5\n",
      "73440/73440 [==============================] - 84s 1ms/step - loss: 0.4114 - acc: 0.8864 - val_loss: 0.5026 - val_acc: 0.8509\n",
      "Epoch 3/5\n",
      "73440/73440 [==============================] - 83s 1ms/step - loss: 0.3377 - acc: 0.9060 - val_loss: 0.3457 - val_acc: 0.9032\n",
      "Epoch 4/5\n",
      "73440/73440 [==============================] - 84s 1ms/step - loss: 0.2942 - acc: 0.9185 - val_loss: 0.3007 - val_acc: 0.9116\n",
      "Epoch 5/5\n",
      "73440/73440 [==============================] - 83s 1ms/step - loss: 0.2638 - acc: 0.9275 - val_loss: 0.3070 - val_acc: 0.9059\n",
      "=============================================================================\n",
      "{'optimizer': 'Adagrad', 'kernel_initializer': 'normal', 'activation': 'tanh'}\n",
      "Train on 73440 samples, validate on 13360 samples\n",
      "Epoch 1/5\n",
      "73440/73440 [==============================] - 88s 1ms/step - loss: 0.6322 - acc: 0.8420 - val_loss: 0.7225 - val_acc: 0.7845\n",
      "Epoch 2/5\n",
      "73440/73440 [==============================] - 86s 1ms/step - loss: 0.3128 - acc: 0.9185 - val_loss: 0.6741 - val_acc: 0.8092\n",
      "Epoch 3/5\n",
      "73440/73440 [==============================] - 85s 1ms/step - loss: 0.2363 - acc: 0.9372 - val_loss: 0.5194 - val_acc: 0.8432\n",
      "Epoch 4/5\n",
      "73440/73440 [==============================] - 86s 1ms/step - loss: 0.1975 - acc: 0.9462 - val_loss: 0.4444 - val_acc: 0.8707\n",
      "Epoch 5/5\n",
      "73440/73440 [==============================] - 86s 1ms/step - loss: 0.1727 - acc: 0.9527 - val_loss: 0.3372 - val_acc: 0.8906\n",
      "=============================================================================\n",
      "{'optimizer': 'Adagrad', 'kernel_initializer': 'uniform', 'activation': 'tanh'}\n",
      "Train on 73440 samples, validate on 13360 samples\n",
      "Epoch 1/5\n",
      "73440/73440 [==============================] - 90s 1ms/step - loss: 0.5182 - acc: 0.8685 - val_loss: 0.7889 - val_acc: 0.7621\n",
      "Epoch 2/5\n",
      "73440/73440 [==============================] - 86s 1ms/step - loss: 0.2390 - acc: 0.9377 - val_loss: 0.5195 - val_acc: 0.8433\n",
      "Epoch 3/5\n",
      "73440/73440 [==============================] - 85s 1ms/step - loss: 0.1814 - acc: 0.9515 - val_loss: 0.2427 - val_acc: 0.9240\n",
      "Epoch 4/5\n",
      "73440/73440 [==============================] - 85s 1ms/step - loss: 0.1508 - acc: 0.9596 - val_loss: 0.2552 - val_acc: 0.9205\n",
      "Epoch 5/5\n",
      "73440/73440 [==============================] - 85s 1ms/step - loss: 0.1354 - acc: 0.9627 - val_loss: 0.1798 - val_acc: 0.9451\n",
      "=============================================================================\n",
      "{'optimizer': 'Nadam', 'kernel_initializer': 'normal', 'activation': 'relu'}\n",
      "Train on 73440 samples, validate on 13360 samples\n",
      "Epoch 1/5\n",
      "73440/73440 [==============================] - 102s 1ms/step - loss: 0.2761 - acc: 0.9219 - val_loss: 0.1491 - val_acc: 0.9564\n",
      "Epoch 2/5\n",
      "73440/73440 [==============================] - 99s 1ms/step - loss: 0.1010 - acc: 0.9686 - val_loss: 0.2383 - val_acc: 0.9087\n",
      "Epoch 3/5\n",
      "73440/73440 [==============================] - 98s 1ms/step - loss: 0.0823 - acc: 0.9745 - val_loss: 0.1861 - val_acc: 0.9542\n",
      "Epoch 4/5\n",
      "73440/73440 [==============================] - 98s 1ms/step - loss: 0.0711 - acc: 0.9775 - val_loss: 0.2912 - val_acc: 0.9115\n",
      "Epoch 5/5\n",
      "73440/73440 [==============================] - 98s 1ms/step - loss: 0.0644 - acc: 0.9803 - val_loss: 1.5884 - val_acc: 0.7040\n",
      "=============================================================================\n",
      "{'optimizer': 'Nadam', 'kernel_initializer': 'uniform', 'activation': 'relu'}\n",
      "Train on 73440 samples, validate on 13360 samples\n",
      "Epoch 1/5\n",
      "73440/73440 [==============================] - 103s 1ms/step - loss: 0.2668 - acc: 0.9253 - val_loss: 1.5238 - val_acc: 0.7397\n",
      "Epoch 2/5\n",
      "73440/73440 [==============================] - 98s 1ms/step - loss: 0.1046 - acc: 0.9674 - val_loss: 0.1860 - val_acc: 0.9345\n",
      "Epoch 3/5\n",
      "73440/73440 [==============================] - 96s 1ms/step - loss: 0.0821 - acc: 0.9743 - val_loss: 1.4487 - val_acc: 0.6641\n",
      "Epoch 4/5\n",
      "73440/73440 [==============================] - 96s 1ms/step - loss: 0.0736 - acc: 0.9772 - val_loss: 0.4209 - val_acc: 0.8993\n",
      "Epoch 5/5\n",
      "73440/73440 [==============================] - 96s 1ms/step - loss: 0.0671 - acc: 0.9787 - val_loss: 0.1993 - val_acc: 0.9399\n",
      "=============================================================================\n",
      "{'optimizer': 'Nadam', 'kernel_initializer': 'normal', 'activation': 'linear'}\n",
      "Train on 73440 samples, validate on 13360 samples\n",
      "Epoch 1/5\n",
      "73440/73440 [==============================] - 100s 1ms/step - loss: 0.5131 - acc: 0.8516 - val_loss: 6.4008 - val_acc: 0.1222\n",
      "Epoch 2/5\n",
      "73440/73440 [==============================] - 97s 1ms/step - loss: 0.2208 - acc: 0.9295 - val_loss: 0.8846 - val_acc: 0.7870\n",
      "Epoch 3/5\n",
      "73440/73440 [==============================] - 105s 1ms/step - loss: 0.1642 - acc: 0.9481 - val_loss: 0.2441 - val_acc: 0.9202\n",
      "Epoch 4/5\n",
      "73440/73440 [==============================] - 101s 1ms/step - loss: 0.1412 - acc: 0.9546 - val_loss: 5.7308 - val_acc: 0.2032\n",
      "Epoch 5/5\n",
      "73440/73440 [==============================] - 96s 1ms/step - loss: 0.1227 - acc: 0.9603 - val_loss: 3.0600 - val_acc: 0.7353\n",
      "=============================================================================\n",
      "{'optimizer': 'Nadam', 'kernel_initializer': 'uniform', 'activation': 'linear'}\n",
      "Train on 73440 samples, validate on 13360 samples\n",
      "Epoch 1/5\n",
      "73440/73440 [==============================] - 102s 1ms/step - loss: 0.4945 - acc: 0.8586 - val_loss: 7.1451 - val_acc: 0.3430\n",
      "Epoch 2/5\n",
      "73440/73440 [==============================] - 97s 1ms/step - loss: 0.2141 - acc: 0.9326 - val_loss: 0.9167 - val_acc: 0.7728\n",
      "Epoch 3/5\n",
      "73440/73440 [==============================] - 97s 1ms/step - loss: 0.1628 - acc: 0.9480 - val_loss: 3.7391 - val_acc: 0.7296\n",
      "Epoch 4/5\n",
      "73440/73440 [==============================] - 96s 1ms/step - loss: 0.1380 - acc: 0.9554 - val_loss: 0.1289 - val_acc: 0.9596\n",
      "Epoch 5/5\n",
      "73440/73440 [==============================] - 97s 1ms/step - loss: 0.1233 - acc: 0.9607 - val_loss: 1.4198 - val_acc: 0.6144\n",
      "=============================================================================\n",
      "{'optimizer': 'Nadam', 'kernel_initializer': 'normal', 'activation': 'tanh'}\n",
      "Train on 73440 samples, validate on 13360 samples\n",
      "Epoch 1/5\n",
      "73440/73440 [==============================] - 104s 1ms/step - loss: 0.4371 - acc: 0.8779 - val_loss: 2.2470 - val_acc: 0.5817\n",
      "Epoch 2/5\n",
      "73440/73440 [==============================] - 99s 1ms/step - loss: 0.2140 - acc: 0.9309 - val_loss: 9.5446 - val_acc: 0.0624\n",
      "Epoch 3/5\n",
      "73440/73440 [==============================] - 98s 1ms/step - loss: 0.1971 - acc: 0.9371 - val_loss: 1.6289 - val_acc: 0.5686\n",
      "Epoch 4/5\n",
      "73440/73440 [==============================] - 99s 1ms/step - loss: 0.1771 - acc: 0.9431 - val_loss: 0.4576 - val_acc: 0.8562\n",
      "Epoch 5/5\n",
      "73440/73440 [==============================] - 98s 1ms/step - loss: 0.1667 - acc: 0.9460 - val_loss: 0.1962 - val_acc: 0.9391\n",
      "=============================================================================\n",
      "{'optimizer': 'Nadam', 'kernel_initializer': 'uniform', 'activation': 'tanh'}\n",
      "Train on 73440 samples, validate on 13360 samples\n",
      "Epoch 1/5\n",
      "73440/73440 [==============================] - 105s 1ms/step - loss: 0.3933 - acc: 0.8903 - val_loss: 6.5998 - val_acc: 0.1526\n",
      "Epoch 2/5\n",
      "73440/73440 [==============================] - 98s 1ms/step - loss: 0.2030 - acc: 0.9367 - val_loss: 5.0520 - val_acc: 0.4349\n",
      "Epoch 3/5\n",
      "73440/73440 [==============================] - 99s 1ms/step - loss: 0.1776 - acc: 0.9434 - val_loss: 0.7476 - val_acc: 0.7984\n",
      "Epoch 4/5\n",
      "73440/73440 [==============================] - 99s 1ms/step - loss: 0.1678 - acc: 0.9457 - val_loss: 0.8716 - val_acc: 0.7469\n",
      "Epoch 5/5\n",
      "73440/73440 [==============================] - 98s 1ms/step - loss: 0.1530 - acc: 0.9510 - val_loss: 2.0540 - val_acc: 0.5690\n",
      "=============================================================================\n"
     ]
    }
   ],
   "source": [
    "epochs = 5\n",
    "batch_size = 20 # 20 divides the training data samples\n",
    "\n",
    "#creating the models with different hyperparameters\n",
    "for a,b,c in [(x,y,z) for x in optimizer for z in activation for y in kernel_initializer]:\n",
    "    params = {'optimizer' : a , 'kernel_initializer' : b , 'activation' : c}\n",
    "    print(params)\n",
    "    curr_model = create_model(a, b, c)\n",
    "    curr_model.fit(training_data_images, training_data_labels, \n",
    "                    validation_data=(testing_data_images, testing_data_labels),\n",
    "                    epochs=epochs, batch_size=batch_size, verbose=1)\n",
    "    print(\"=============================================================================\")"
   ]
  },
  {
   "cell_type": "markdown",
   "metadata": {
    "colab_type": "text",
    "id": "TgVoF_U9ifx0"
   },
   "source": [
    "**From the above results we can see that best parameters are:**\n",
    "* **Optimizer: Adam**\n",
    "* **Kernel_initializer: uniform**\n",
    "* **Activation: relu** "
   ]
  },
  {
   "cell_type": "markdown",
   "metadata": {
    "colab_type": "text",
    "id": "Nt9JJvWzjKpf"
   },
   "source": [
    "Let's create the model with the best parameters obtained."
   ]
  },
  {
   "cell_type": "code",
   "execution_count": 0,
   "metadata": {
    "colab": {},
    "colab_type": "code",
    "id": "TQ61tTgthNX3"
   },
   "outputs": [],
   "source": [
    "model = create_model(optimizer='Adam', kernel_initializer='uniform', activation='relu')"
   ]
  },
  {
   "cell_type": "markdown",
   "metadata": {
    "colab_type": "text",
    "id": "SAyJLJOsJdKY"
   },
   "source": [
    "## Training the Model\n"
   ]
  },
  {
   "cell_type": "markdown",
   "metadata": {
    "colab_type": "text",
    "id": "9REBW24cmdKI"
   },
   "source": [
    "### Fitting the Model"
   ]
  },
  {
   "cell_type": "markdown",
   "metadata": {
    "colab_type": "text",
    "id": "i8GiTDtRkZTp"
   },
   "source": [
    "Train the model using batch_size=20 to reduce used memory and make the training more quick.\n",
    "We will train the model first on 10 epochs to see the accuracy that we will obtain."
   ]
  },
  {
   "cell_type": "code",
   "execution_count": 31,
   "metadata": {
    "colab": {
     "base_uri": "https://localhost:8080/",
     "height": 734
    },
    "colab_type": "code",
    "executionInfo": {
     "elapsed": 904503,
     "status": "ok",
     "timestamp": 1537582891920,
     "user": {
      "displayName": "Amr Hendy",
      "photoUrl": "//lh4.googleusercontent.com/-dRbE1ZGijO8/AAAAAAAAAAI/AAAAAAAAANg/YkTGbPMb_FQ/s50-c-k-no/photo.jpg",
      "userId": "116082760662520987778"
     },
     "user_tz": -120
    },
    "id": "fOtKJTQ51qC5",
    "outputId": "7cad5b4b-6c0d-467a-d3e8-b39cf0fb08a9"
   },
   "outputs": [
    {
     "name": "stdout",
     "output_type": "stream",
     "text": [
      "Train on 73440 samples, validate on 13360 samples\n",
      "Epoch 1/10\n",
      "73440/73440 [==============================] - 94s 1ms/step - loss: 0.3189 - acc: 0.9153 - val_loss: 10.5339 - val_acc: 0.1437\n",
      "\n",
      "Epoch 00001: val_loss improved from inf to 10.53390, saving model to weights.hdf5\n",
      "Epoch 2/10\n",
      "73440/73440 [==============================] - 89s 1ms/step - loss: 0.1049 - acc: 0.9681 - val_loss: 0.3283 - val_acc: 0.9012\n",
      "\n",
      "Epoch 00002: val_loss improved from 10.53390 to 0.32826, saving model to weights.hdf5\n",
      "Epoch 3/10\n",
      "73440/73440 [==============================] - 90s 1ms/step - loss: 0.0797 - acc: 0.9757 - val_loss: 0.6523 - val_acc: 0.7985\n",
      "\n",
      "Epoch 00003: val_loss did not improve from 0.32826\n",
      "Epoch 4/10\n",
      "73440/73440 [==============================] - 89s 1ms/step - loss: 0.0702 - acc: 0.9782 - val_loss: 0.2071 - val_acc: 0.9394\n",
      "\n",
      "Epoch 00004: val_loss improved from 0.32826 to 0.20706, saving model to weights.hdf5\n",
      "Epoch 5/10\n",
      "73440/73440 [==============================] - 89s 1ms/step - loss: 0.0592 - acc: 0.9811 - val_loss: 0.0752 - val_acc: 0.9769\n",
      "\n",
      "Epoch 00005: val_loss improved from 0.20706 to 0.07522, saving model to weights.hdf5\n",
      "Epoch 6/10\n",
      "73440/73440 [==============================] - 89s 1ms/step - loss: 0.0545 - acc: 0.9833 - val_loss: 0.9768 - val_acc: 0.6818\n",
      "\n",
      "Epoch 00006: val_loss did not improve from 0.07522\n",
      "Epoch 7/10\n",
      "73440/73440 [==============================] - 88s 1ms/step - loss: 0.0497 - acc: 0.9845 - val_loss: 0.1118 - val_acc: 0.9671\n",
      "\n",
      "Epoch 00007: val_loss did not improve from 0.07522\n",
      "Epoch 8/10\n",
      "73440/73440 [==============================] - 89s 1ms/step - loss: 0.0473 - acc: 0.9854 - val_loss: 0.0576 - val_acc: 0.9829\n",
      "\n",
      "Epoch 00008: val_loss improved from 0.07522 to 0.05756, saving model to weights.hdf5\n",
      "Epoch 9/10\n",
      "73440/73440 [==============================] - 89s 1ms/step - loss: 0.0453 - acc: 0.9863 - val_loss: 0.0800 - val_acc: 0.9767\n",
      "\n",
      "Epoch 00009: val_loss did not improve from 0.05756\n",
      "Epoch 10/10\n",
      "73440/73440 [==============================] - 89s 1ms/step - loss: 0.0432 - acc: 0.9862 - val_loss: 0.2793 - val_acc: 0.9097\n",
      "\n",
      "Epoch 00010: val_loss did not improve from 0.05756\n"
     ]
    }
   ],
   "source": [
    "from keras.callbacks import ModelCheckpoint  \n",
    "\n",
    "# using checkpoints to save model weights to be used later instead of training again on the same epochs.\n",
    "checkpointer = ModelCheckpoint(filepath='weights.hdf5', verbose=1, save_best_only=True)\n",
    "history = model.fit(training_data_images, training_data_labels, \n",
    "                    validation_data=(testing_data_images, testing_data_labels),\n",
    "                    epochs=10, batch_size=20, verbose=1, callbacks=[checkpointer])"
   ]
  },
  {
   "cell_type": "markdown",
   "metadata": {
    "colab_type": "text",
    "id": "etE1oULFCnSn"
   },
   "source": [
    "### Plotting Loss and Accuracy Curves with Epochs"
   ]
  },
  {
   "cell_type": "code",
   "execution_count": 0,
   "metadata": {
    "colab": {},
    "colab_type": "code",
    "id": "ZWyxaeKxCn9O"
   },
   "outputs": [],
   "source": [
    "import matplotlib.pyplot as plt\n",
    "\n",
    "def plot_loss_accuracy(history):\n",
    "  # Loss Curves\n",
    "  plt.figure(figsize=[8,6])\n",
    "  plt.plot(history.history['loss'],'r',linewidth=3.0)\n",
    "  plt.plot(history.history['val_loss'],'b',linewidth=3.0)\n",
    "  plt.legend(['Training loss', 'Validation Loss'],fontsize=18)\n",
    "  plt.xlabel('Epochs ',fontsize=16)\n",
    "  plt.ylabel('Loss',fontsize=16)\n",
    "  plt.title('Loss Curves',fontsize=16)\n",
    "\n",
    "  # Accuracy Curves\n",
    "  plt.figure(figsize=[8,6])\n",
    "  plt.plot(history.history['acc'],'r',linewidth=3.0)\n",
    "  plt.plot(history.history['val_acc'],'b',linewidth=3.0)\n",
    "  plt.legend(['Training Accuracy', 'Validation Accuracy'],fontsize=18)\n",
    "  plt.xlabel('Epochs ',fontsize=16)\n",
    "  plt.ylabel('Accuracy',fontsize=16)\n",
    "  plt.title('Accuracy Curves',fontsize=16) "
   ]
  },
  {
   "cell_type": "code",
   "execution_count": 36,
   "metadata": {
    "colab": {
     "base_uri": "https://localhost:8080/",
     "height": 805
    },
    "colab_type": "code",
    "executionInfo": {
     "elapsed": 2140,
     "status": "ok",
     "timestamp": 1537583155675,
     "user": {
      "displayName": "Amr Hendy",
      "photoUrl": "//lh4.googleusercontent.com/-dRbE1ZGijO8/AAAAAAAAAAI/AAAAAAAAANg/YkTGbPMb_FQ/s50-c-k-no/photo.jpg",
      "userId": "116082760662520987778"
     },
     "user_tz": -120
    },
    "id": "LE9WKyG7GNSs",
    "outputId": "d610c15c-18ac-428c-9193-40a87bccce15"
   },
   "outputs": [
    {
     "data": {
      "image/png": "[encoded data removed]",
      "text/plain": [
       "<matplotlib.figure.Figure at 0x7fa74977aac8>"
      ]
     },
     "metadata": {
      "tags": []
     },
     "output_type": "display_data"
    },
    {
     "data": {
      "image/png": "[encoded data removed]",
      "text/plain": [
       "<matplotlib.figure.Figure at 0x7fa748f28630>"
      ]
     },
     "metadata": {
      "tags": []
     },
     "output_type": "display_data"
    }
   ],
   "source": [
    "plot_loss_accuracy(history)"
   ]
  },
  {
   "cell_type": "markdown",
   "metadata": {
    "colab_type": "text",
    "id": "p8QOKiQpmWDC"
   },
   "source": [
    "### Load the Model with the Best Validation Loss\n"
   ]
  },
  {
   "cell_type": "code",
   "execution_count": 0,
   "metadata": {
    "colab": {},
    "colab_type": "code",
    "id": "OUunssvzmQUb"
   },
   "outputs": [],
   "source": [
    "model.load_weights('weights.hdf5')"
   ]
  },
  {
   "cell_type": "markdown",
   "metadata": {
    "colab_type": "text",
    "id": "Aijsry3Xmmv-"
   },
   "source": [
    "## Test the Model\n"
   ]
  },
  {
   "cell_type": "code",
   "execution_count": 38,
   "metadata": {
    "colab": {
     "base_uri": "https://localhost:8080/",
     "height": 68
    },
    "colab_type": "code",
    "executionInfo": {
     "elapsed": 5181,
     "status": "ok",
     "timestamp": 1537583170679,
     "user": {
      "displayName": "Amr Hendy",
      "photoUrl": "//lh4.googleusercontent.com/-dRbE1ZGijO8/AAAAAAAAAAI/AAAAAAAAANg/YkTGbPMb_FQ/s50-c-k-no/photo.jpg",
      "userId": "116082760662520987778"
     },
     "user_tz": -120
    },
    "id": "8h7E8G7CsCFB",
    "outputId": "ce7d4c98-e32c-4d49-8c4d-4a7bef7f3c30"
   },
   "outputs": [
    {
     "name": "stdout",
     "output_type": "stream",
     "text": [
      "13360/13360 [==============================] - 5s 343us/step\n",
      "Test Accuracy: 0.9828592814371258\n",
      "Test Loss: 0.05756271482567684\n"
     ]
    }
   ],
   "source": [
    "# Final evaluation of the model\n",
    "metrics = model.evaluate(testing_data_images, testing_data_labels, verbose=1)\n",
    "print(\"Test Accuracy: {}\".format(metrics[1]))\n",
    "print(\"Test Loss: {}\".format(metrics[0]))"
   ]
  },
  {
   "cell_type": "markdown",
   "metadata": {
    "colab_type": "text",
    "id": "Xz04uhKPnFft"
   },
   "source": [
    "**We get test accuracy of 98.286% after training on 10 epochs only.**\n",
    "\n",
    "**What about increasing the epochs we train on ?**"
   ]
  },
  {
   "cell_type": "markdown",
   "metadata": {
    "colab_type": "text",
    "id": "Rit6CswqnrEC"
   },
   "source": [
    "## Training More on the best model"
   ]
  },
  {
   "cell_type": "code",
   "execution_count": 39,
   "metadata": {
    "colab": {
     "base_uri": "https://localhost:8080/",
     "height": 2202
    },
    "colab_type": "code",
    "executionInfo": {
     "elapsed": 1780630,
     "status": "ok",
     "timestamp": 1537585006745,
     "user": {
      "displayName": "Amr Hendy",
      "photoUrl": "//lh4.googleusercontent.com/-dRbE1ZGijO8/AAAAAAAAAAI/AAAAAAAAANg/YkTGbPMb_FQ/s50-c-k-no/photo.jpg",
      "userId": "116082760662520987778"
     },
     "user_tz": -120
    },
    "id": "BZAP7VW1npA-",
    "outputId": "0fc06279-2faa-4d2b-f358-edda4c304338"
   },
   "outputs": [
    {
     "name": "stdout",
     "output_type": "stream",
     "text": [
      "Train on 73440 samples, validate on 13360 samples\n",
      "Epoch 1/20\n",
      "73440/73440 [==============================] - 89s 1ms/step - loss: 0.0447 - acc: 0.9859 - val_loss: 0.4244 - val_acc: 0.8557\n",
      "\n",
      "Epoch 00001: val_loss improved from inf to 0.42443, saving model to weights.hdf5\n",
      "Epoch 2/20\n",
      "73440/73440 [==============================] - 89s 1ms/step - loss: 0.0414 - acc: 0.9863 - val_loss: 0.0576 - val_acc: 0.9830\n",
      "\n",
      "Epoch 00002: val_loss improved from 0.42443 to 0.05760, saving model to weights.hdf5\n",
      "Epoch 3/20\n",
      "73440/73440 [==============================] - 89s 1ms/step - loss: 0.0396 - acc: 0.9872 - val_loss: 0.0546 - val_acc: 0.9844\n",
      "\n",
      "Epoch 00003: val_loss improved from 0.05760 to 0.05457, saving model to weights.hdf5\n",
      "Epoch 4/20\n",
      "73440/73440 [==============================] - 89s 1ms/step - loss: 0.0400 - acc: 0.9875 - val_loss: 0.4204 - val_acc: 0.8711\n",
      "\n",
      "Epoch 00004: val_loss did not improve from 0.05457\n",
      "Epoch 5/20\n",
      "73440/73440 [==============================] - 89s 1ms/step - loss: 0.0367 - acc: 0.9881 - val_loss: 2.2243 - val_acc: 0.5124\n",
      "\n",
      "Epoch 00005: val_loss did not improve from 0.05457\n",
      "Epoch 6/20\n",
      "73440/73440 [==============================] - 89s 1ms/step - loss: 0.0366 - acc: 0.9881 - val_loss: 0.0553 - val_acc: 0.9842\n",
      "\n",
      "Epoch 00006: val_loss did not improve from 0.05457\n",
      "Epoch 7/20\n",
      "73440/73440 [==============================] - 89s 1ms/step - loss: 0.0349 - acc: 0.9889 - val_loss: 0.0449 - val_acc: 0.9877\n",
      "\n",
      "Epoch 00007: val_loss improved from 0.05457 to 0.04494, saving model to weights.hdf5\n",
      "Epoch 8/20\n",
      "73440/73440 [==============================] - 89s 1ms/step - loss: 0.0320 - acc: 0.9895 - val_loss: 0.0504 - val_acc: 0.9858\n",
      "\n",
      "Epoch 00008: val_loss did not improve from 0.04494\n",
      "Epoch 9/20\n",
      "73440/73440 [==============================] - 89s 1ms/step - loss: 0.0326 - acc: 0.9897 - val_loss: 0.1189 - val_acc: 0.9697\n",
      "\n",
      "Epoch 00009: val_loss did not improve from 0.04494\n",
      "Epoch 10/20\n",
      "73440/73440 [==============================] - 89s 1ms/step - loss: 0.0300 - acc: 0.9904 - val_loss: 0.0488 - val_acc: 0.9871\n",
      "\n",
      "Epoch 00010: val_loss did not improve from 0.04494\n",
      "Epoch 11/20\n",
      "73440/73440 [==============================] - 89s 1ms/step - loss: 0.0309 - acc: 0.9899 - val_loss: 0.0511 - val_acc: 0.9853\n",
      "\n",
      "Epoch 00011: val_loss did not improve from 0.04494\n",
      "Epoch 12/20\n",
      "73440/73440 [==============================] - 89s 1ms/step - loss: 0.0294 - acc: 0.9907 - val_loss: 0.0419 - val_acc: 0.9886\n",
      "\n",
      "Epoch 00012: val_loss improved from 0.04494 to 0.04191, saving model to weights.hdf5\n",
      "Epoch 13/20\n",
      "73440/73440 [==============================] - 89s 1ms/step - loss: 0.0288 - acc: 0.9906 - val_loss: 2.7113 - val_acc: 0.7689\n",
      "\n",
      "Epoch 00013: val_loss did not improve from 0.04191\n",
      "Epoch 14/20\n",
      "73440/73440 [==============================] - 89s 1ms/step - loss: 0.0277 - acc: 0.9911 - val_loss: 0.0617 - val_acc: 0.9846\n",
      "\n",
      "Epoch 00014: val_loss did not improve from 0.04191\n",
      "Epoch 15/20\n",
      "73440/73440 [==============================] - 89s 1ms/step - loss: 0.0258 - acc: 0.9918 - val_loss: 0.0939 - val_acc: 0.9754\n",
      "\n",
      "Epoch 00015: val_loss did not improve from 0.04191\n",
      "Epoch 16/20\n",
      "73440/73440 [==============================] - 89s 1ms/step - loss: 0.0265 - acc: 0.9912 - val_loss: 0.2457 - val_acc: 0.9448\n",
      "\n",
      "Epoch 00016: val_loss did not improve from 0.04191\n",
      "Epoch 17/20\n",
      "73440/73440 [==============================] - 89s 1ms/step - loss: 0.0251 - acc: 0.9918 - val_loss: 0.0505 - val_acc: 0.9866\n",
      "\n",
      "Epoch 00017: val_loss did not improve from 0.04191\n",
      "Epoch 18/20\n",
      "73440/73440 [==============================] - 89s 1ms/step - loss: 0.0271 - acc: 0.9916 - val_loss: 0.0441 - val_acc: 0.9883\n",
      "\n",
      "Epoch 00018: val_loss did not improve from 0.04191\n",
      "Epoch 19/20\n",
      "73440/73440 [==============================] - 89s 1ms/step - loss: 0.0251 - acc: 0.9917 - val_loss: 0.5342 - val_acc: 0.8984\n",
      "\n",
      "Epoch 00019: val_loss did not improve from 0.04191\n",
      "Epoch 20/20\n",
      "73440/73440 [==============================] - 89s 1ms/step - loss: 0.0239 - acc: 0.9925 - val_loss: 0.0499 - val_acc: 0.9877\n",
      "\n",
      "Epoch 00020: val_loss did not improve from 0.04191\n"
     ]
    },
    {
     "data": {
      "image/png": "[encoded data removed]",
      "text/plain": [
       "<matplotlib.figure.Figure at 0x7fa74b8b1ac8>"
      ]
     },
     "metadata": {
      "tags": []
     },
     "output_type": "display_data"
    },
    {
     "data": {
      "image/png": "[encoded data removed]",
      "text/plain": [
       "<matplotlib.figure.Figure at 0x7fa748e4bcc0>"
      ]
     },
     "metadata": {
      "tags": []
     },
     "output_type": "display_data"
    }
   ],
   "source": [
    "epochs = 20\n",
    "batch_size = 20\n",
    "\n",
    "checkpointer = ModelCheckpoint(filepath='weights.hdf5', verbose=1, save_best_only=True)\n",
    "\n",
    "history = model.fit(training_data_images, training_data_labels, \n",
    "                    validation_data=(testing_data_images, testing_data_labels),\n",
    "                    epochs=epochs, batch_size=batch_size, verbose=1, callbacks=[checkpointer])\n",
    "          \n",
    "model.load_weights('weights.hdf5')\n",
    "plot_loss_accuracy(history)"
   ]
  },
  {
   "cell_type": "code",
   "execution_count": 41,
   "metadata": {
    "colab": {
     "base_uri": "https://localhost:8080/",
     "height": 805
    },
    "colab_type": "code",
    "executionInfo": {
     "elapsed": 2490,
     "status": "ok",
     "timestamp": 1537585110875,
     "user": {
      "displayName": "Amr Hendy",
      "photoUrl": "//lh4.googleusercontent.com/-dRbE1ZGijO8/AAAAAAAAAAI/AAAAAAAAANg/YkTGbPMb_FQ/s50-c-k-no/photo.jpg",
      "userId": "116082760662520987778"
     },
     "user_tz": -120
    },
    "id": "c8GWs-8bNsxR",
    "outputId": "acef3123-a33c-49bc-f759-5ce10a9d50a7"
   },
   "outputs": [
    {
     "data": {
      "image/png": "[encoded data removed]",
      "text/plain": [
       "<matplotlib.figure.Figure at 0x7fa748ea72e8>"
      ]
     },
     "metadata": {
      "tags": []
     },
     "output_type": "display_data"
    },
    {
     "data": {
      "image/png": "[encoded data removed]",
      "text/plain": [
       "<matplotlib.figure.Figure at 0x7fa748d77320>"
      ]
     },
     "metadata": {
      "tags": []
     },
     "output_type": "display_data"
    }
   ],
   "source": [
    "plot_loss_accuracy(history)"
   ]
  },
  {
   "cell_type": "markdown",
   "metadata": {
    "colab_type": "text",
    "id": "RC6yRcCHoMa7"
   },
   "source": [
    "## Testing the Model again"
   ]
  },
  {
   "cell_type": "code",
   "execution_count": 40,
   "metadata": {
    "colab": {
     "base_uri": "https://localhost:8080/",
     "height": 68
    },
    "colab_type": "code",
    "executionInfo": {
     "elapsed": 6816,
     "status": "ok",
     "timestamp": 1537585029877,
     "user": {
      "displayName": "Amr Hendy",
      "photoUrl": "//lh4.googleusercontent.com/-dRbE1ZGijO8/AAAAAAAAAAI/AAAAAAAAANg/YkTGbPMb_FQ/s50-c-k-no/photo.jpg",
      "userId": "116082760662520987778"
     },
     "user_tz": -120
    },
    "id": "Bm5y2MgXoP3F",
    "outputId": "4c262179-d450-4c3e-e621-a86814f8caa7"
   },
   "outputs": [
    {
     "name": "stdout",
     "output_type": "stream",
     "text": [
      "13360/13360 [==============================] - 5s 346us/step\n",
      "Test Accuracy: 0.988622754491018\n",
      "Test Loss: 0.04191313635113142\n"
     ]
    }
   ],
   "source": [
    "# Final evaluation of the model\n",
    "metrics = model.evaluate(testing_data_images, testing_data_labels, verbose=1)\n",
    "print(\"Test Accuracy: {}\".format(metrics[1]))\n",
    "print(\"Test Loss: {}\".format(metrics[0]))"
   ]
  },
  {
   "cell_type": "markdown",
   "metadata": {
    "colab_type": "text",
    "id": "3cVhqFs8oYwz"
   },
   "source": [
    "After training the model on more epochs we gained a better model which can classify complex patterns . So when we tested it on our test dataset we had better results than before.\n",
    "\n",
    "**Test accuracy is improved from 98.286% to 98.862% As we train the model on 20 more epochs.**\n",
    "\n"
   ]
  },
  {
   "cell_type": "markdown",
   "metadata": {
    "colab_type": "text",
    "id": "RUes2bqFqycc"
   },
   "source": [
    "## Saving the Final Model"
   ]
  },
  {
   "cell_type": "markdown",
   "metadata": {
    "colab_type": "text",
    "id": "dA6vbYZKp0bB"
   },
   "source": [
    "Let's save the model on json format to be used later instead of creating the model again from scratch."
   ]
  },
  {
   "cell_type": "code",
   "execution_count": 0,
   "metadata": {
    "colab": {},
    "colab_type": "code",
    "id": "EVsTrDhop_XA"
   },
   "outputs": [],
   "source": [
    "from keras.models import model_from_yaml\n",
    "model_yaml = model.to_yaml()\n",
    "with open(\"model.yaml\", \"w\") as yaml_file:\n",
    "    yaml_file.write(model_yaml)"
   ]
  },
  {
   "cell_type": "markdown",
   "metadata": {
    "colab_type": "text",
    "id": "ozgwPPrArhoY"
   },
   "source": [
    "Save the model weights to file."
   ]
  },
  {
   "cell_type": "code",
   "execution_count": 46,
   "metadata": {
    "colab": {
     "base_uri": "https://localhost:8080/",
     "height": 34
    },
    "colab_type": "code",
    "executionInfo": {
     "elapsed": 1040,
     "status": "ok",
     "timestamp": 1537585275078,
     "user": {
      "displayName": "Amr Hendy",
      "photoUrl": "//lh4.googleusercontent.com/-dRbE1ZGijO8/AAAAAAAAAAI/AAAAAAAAANg/YkTGbPMb_FQ/s50-c-k-no/photo.jpg",
      "userId": "116082760662520987778"
     },
     "user_tz": -120
    },
    "id": "jAVASfDAo_lN",
    "outputId": "efc9bb9b-444a-4191-a15f-9fed644fef7f"
   },
   "outputs": [
    {
     "name": "stdout",
     "output_type": "stream",
     "text": [
      "Saved model to disk\n"
     ]
    }
   ],
   "source": [
    "# serialize weights to HDF5\n",
    "model.save_weights(\"model.h5\")\n",
    "print(\"Saved model to disk\")"
   ]
  },
  {
   "cell_type": "markdown",
   "metadata": {
    "colab_type": "text",
    "id": "xv1bAB-ur15m"
   },
   "source": [
    "if we want to load the model with the last obtained weights at anytime, we will run the following code cell."
   ]
  },
  {
   "cell_type": "code",
   "execution_count": 47,
   "metadata": {
    "colab": {
     "base_uri": "https://localhost:8080/",
     "height": 34
    },
    "colab_type": "code",
    "executionInfo": {
     "elapsed": 5824,
     "status": "ok",
     "timestamp": 1537585282320,
     "user": {
      "displayName": "Amr Hendy",
      "photoUrl": "//lh4.googleusercontent.com/-dRbE1ZGijO8/AAAAAAAAAAI/AAAAAAAAANg/YkTGbPMb_FQ/s50-c-k-no/photo.jpg",
      "userId": "116082760662520987778"
     },
     "user_tz": -120
    },
    "id": "xD9ogMjqsCvJ",
    "outputId": "f20276ec-e599-480a-b2b4-fe5c8e5b318a"
   },
   "outputs": [
    {
     "name": "stdout",
     "output_type": "stream",
     "text": [
      "Loaded model from disk\n"
     ]
    }
   ],
   "source": [
    "# load YAML and create model\n",
    "yaml_file = open('model.yaml', 'r')\n",
    "loaded_model_yaml = yaml_file.read()\n",
    "yaml_file.close()\n",
    "loaded_model = model_from_yaml(loaded_model_yaml)\n",
    "# load weights into new model\n",
    "loaded_model.load_weights(\"model.h5\")\n",
    "print(\"Loaded model from disk\")\n",
    " \n",
    "# compile the loaded model\n",
    "loaded_model.compile(loss='binary_crossentropy', optimizer='Adam', metrics=['accuracy'])"
   ]
  },
  {
   "cell_type": "markdown",
   "metadata": {
    "colab_type": "text",
    "id": "bvOiQNT-u6DQ"
   },
   "source": [
    "## Benchmark Model"
   ]
  },
  {
   "cell_type": "markdown",
   "metadata": {
    "colab_type": "text",
    "id": "VljY9PAbwWfo"
   },
   "source": [
    "We will use a very simple (vanilla) CNN model as benchmark and Train/test it using the same data that you have used for our model solution.\n",
    "Then Compare the results between the vanilla model and our complex model."
   ]
  },
  {
   "cell_type": "code",
   "execution_count": 55,
   "metadata": {
    "colab": {
     "base_uri": "https://localhost:8080/",
     "height": 275
    },
    "colab_type": "code",
    "executionInfo": {
     "elapsed": 211911,
     "status": "ok",
     "timestamp": 1537586300764,
     "user": {
      "displayName": "Amr Hendy",
      "photoUrl": "//lh4.googleusercontent.com/-dRbE1ZGijO8/AAAAAAAAAAI/AAAAAAAAANg/YkTGbPMb_FQ/s50-c-k-no/photo.jpg",
      "userId": "116082760662520987778"
     },
     "user_tz": -120
    },
    "id": "r3uAvHHzwW8D",
    "outputId": "e70b620d-73ef-4b69-dfb1-9719dc8ff6a0"
   },
   "outputs": [
    {
     "name": "stdout",
     "output_type": "stream",
     "text": [
      "Train on 73440 samples, validate on 13360 samples\n",
      "Epoch 1/5\n",
      "73440/73440 [==============================] - 45s 619us/step - loss: 2.7163 - acc: 0.1814 - val_loss: 2.7079 - val_acc: 0.2183\n",
      "Epoch 2/5\n",
      "73440/73440 [==============================] - 40s 550us/step - loss: 2.4709 - acc: 0.2514 - val_loss: 2.6120 - val_acc: 0.2372\n",
      "Epoch 3/5\n",
      "73440/73440 [==============================] - 40s 549us/step - loss: 2.3945 - acc: 0.2754 - val_loss: 2.5453 - val_acc: 0.2608\n",
      "Epoch 4/5\n",
      "73440/73440 [==============================] - 41s 552us/step - loss: 2.3237 - acc: 0.3069 - val_loss: 2.4661 - val_acc: 0.2959\n",
      "Epoch 5/5\n",
      "73440/73440 [==============================] - 40s 550us/step - loss: 2.2357 - acc: 0.3444 - val_loss: 2.3761 - val_acc: 0.3237\n",
      "13360/13360 [==============================] - 2s 175us/step\n",
      "Baseline Model Test Accuracy: 0.32372754491017963\n",
      "Baseline Model Test Loss: 2.376121672327647\n"
     ]
    }
   ],
   "source": [
    "baseline_model = Sequential()\n",
    "baseline_model.add(Conv2D(filters=16, kernel_size=3, padding='same', input_shape=(64, 64, 1), activation='relu')) # Input layer\n",
    "baseline_model.add(GlobalAveragePooling2D())\n",
    "baseline_model.add(Dense(38, activation = 'softmax')) # Output layer => output dimension = 38 as it is multi-class\n",
    "\n",
    "# Compile the baseline model\n",
    "baseline_model.compile(loss='categorical_crossentropy', metrics=['accuracy'], optimizer='Adam')\n",
    "\n",
    "# Fit the baseline model with training dataset\n",
    "epochs = 5\n",
    "batch_size = 20\n",
    "\n",
    "baseline_model.fit(training_data_images, training_data_labels, \n",
    "                  validation_data=(testing_data_images, testing_data_labels),\n",
    "                  epochs=epochs, batch_size=batch_size, verbose=1)\n",
    "\n",
    "# Test the baseline model\n",
    "baseline_metrics = baseline_model.evaluate(testing_data_images, testing_data_labels, verbose=1)\n",
    "print(\"Baseline Model Test Accuracy: {}\".format(baseline_metrics[1]))\n",
    "print(\"Baseline Model Test Loss: {}\".format(baseline_metrics[0]))\n"
   ]
  },
  {
   "cell_type": "markdown",
   "metadata": {
    "colab_type": "text",
    "id": "x2vaf6pNSiBj"
   },
   "source": [
    "**We get test accuracy of 32.37% from the baseline Model (vanilla). **"
   ]
  },
  {
   "cell_type": "markdown",
   "metadata": {
    "colab_type": "text",
    "id": "VKGKogPCMhZM"
   },
   "source": [
    "## Predict Image Classes"
   ]
  },
  {
   "cell_type": "markdown",
   "metadata": {
    "colab_type": "text",
    "id": "_TEpbiLtEtaW"
   },
   "source": [
    "Making a method which takes a model, data and its true labels (optional for using in testing). Then it gives the predicted classes of the given data using the given model."
   ]
  },
  {
   "cell_type": "code",
   "execution_count": 0,
   "metadata": {
    "colab": {},
    "colab_type": "code",
    "id": "dXQEPxpGBJao"
   },
   "outputs": [],
   "source": [
    "def get_predicted_classes(model, data, labels=None):\n",
    "  image_predictions = model.predict(data)\n",
    "  predicted_classes = np.argmax(image_predictions, axis=1)\n",
    "  true_classes = np.argmax(labels, axis=1)\n",
    "  return predicted_classes, true_classes"
   ]
  },
  {
   "cell_type": "markdown",
   "metadata": {
    "colab_type": "text",
    "id": "mA_tBIt3A3xr"
   },
   "source": [
    "## Comparing Evaluation Metrics between Benchmark Model and Final Model"
   ]
  },
  {
   "cell_type": "markdown",
   "metadata": {
    "colab_type": "text",
    "id": "LSPG55usTdyZ"
   },
   "source": [
    "Making a method which will print all metrics (precision, recall, f1-score and support) with each class in the dataset."
   ]
  },
  {
   "cell_type": "code",
   "execution_count": 0,
   "metadata": {
    "colab": {},
    "colab_type": "code",
    "id": "rS1nOxCQSImh"
   },
   "outputs": [],
   "source": [
    "from sklearn.metrics import classification_report\n",
    "\n",
    "def get_classification_report(y_true, y_pred):\n",
    "  print(classification_report(y_true, y_pred))"
   ]
  },
  {
   "cell_type": "markdown",
   "metadata": {
    "colab_type": "text",
    "id": "FdzM8mCUT0m1"
   },
   "source": [
    "### Evaluating Final Model using the specified metrics"
   ]
  },
  {
   "cell_type": "code",
   "execution_count": 63,
   "metadata": {
    "colab": {
     "base_uri": "https://localhost:8080/",
     "height": 748
    },
    "colab_type": "code",
    "executionInfo": {
     "elapsed": 5094,
     "status": "ok",
     "timestamp": 1537586583141,
     "user": {
      "displayName": "Amr Hendy",
      "photoUrl": "//lh4.googleusercontent.com/-dRbE1ZGijO8/AAAAAAAAAAI/AAAAAAAAANg/YkTGbPMb_FQ/s50-c-k-no/photo.jpg",
      "userId": "116082760662520987778"
     },
     "user_tz": -120
    },
    "id": "HgR-5MsXS0O3",
    "outputId": "e541a93e-5b3d-4f9d-cd30-860a24b6b6b8"
   },
   "outputs": [
    {
     "name": "stdout",
     "output_type": "stream",
     "text": [
      "             precision    recall  f1-score   support\n",
      "\n",
      "          0       0.99      0.98      0.99      1000\n",
      "          1       0.99      1.00      0.99      1000\n",
      "          2       0.99      0.99      0.99      1000\n",
      "          3       1.00      0.99      0.99      1000\n",
      "          4       1.00      0.99      1.00      1000\n",
      "          5       0.99      0.99      0.99      1000\n",
      "          6       1.00      0.99      1.00      1000\n",
      "          7       1.00      0.99      1.00      1000\n",
      "          8       1.00      1.00      1.00      1000\n",
      "          9       1.00      1.00      1.00      1000\n",
      "         10       1.00      1.00      1.00       120\n",
      "         11       1.00      1.00      1.00       120\n",
      "         12       0.96      0.96      0.96       120\n",
      "         13       0.98      0.99      0.98       120\n",
      "         14       0.99      0.97      0.98       120\n",
      "         15       0.97      0.99      0.98       120\n",
      "         16       0.99      0.97      0.98       120\n",
      "         17       0.96      0.94      0.95       120\n",
      "         18       0.95      0.92      0.93       120\n",
      "         19       0.89      0.99      0.94       120\n",
      "         20       0.94      0.92      0.93       120\n",
      "         21       0.98      1.00      0.99       120\n",
      "         22       0.99      1.00      1.00       120\n",
      "         23       0.96      0.99      0.98       120\n",
      "         24       1.00      0.95      0.97       120\n",
      "         25       0.96      1.00      0.98       120\n",
      "         26       1.00      0.96      0.98       120\n",
      "         27       0.98      0.98      0.98       120\n",
      "         28       1.00      0.99      1.00       120\n",
      "         29       0.93      0.98      0.96       120\n",
      "         30       0.98      0.93      0.95       120\n",
      "         31       1.00      0.98      0.99       120\n",
      "         32       1.00      0.99      1.00       120\n",
      "         33       0.98      1.00      0.99       120\n",
      "         34       0.97      0.93      0.95       120\n",
      "         35       0.99      0.96      0.97       120\n",
      "         36       0.94      0.97      0.96       120\n",
      "         37       1.00      0.99      1.00       120\n",
      "\n",
      "avg / total       0.99      0.99      0.99     13360\n",
      "\n"
     ]
    }
   ],
   "source": [
    "y_pred, y_true = get_predicted_classes(model, testing_data_images, testing_data_labels)\n",
    "get_classification_report(y_true, y_pred)"
   ]
  },
  {
   "cell_type": "markdown",
   "metadata": {
    "colab_type": "text",
    "id": "MlYyVo8uUJqf"
   },
   "source": [
    "### Evaluating Baseline (Benchmark) Model using the specified metrics"
   ]
  },
  {
   "cell_type": "code",
   "execution_count": 65,
   "metadata": {
    "colab": {
     "base_uri": "https://localhost:8080/",
     "height": 802
    },
    "colab_type": "code",
    "executionInfo": {
     "elapsed": 2676,
     "status": "ok",
     "timestamp": 1537586828578,
     "user": {
      "displayName": "Amr Hendy",
      "photoUrl": "//lh4.googleusercontent.com/-dRbE1ZGijO8/AAAAAAAAAAI/AAAAAAAAANg/YkTGbPMb_FQ/s50-c-k-no/photo.jpg",
      "userId": "116082760662520987778"
     },
     "user_tz": -120
    },
    "id": "AbG3WPovTFQD",
    "outputId": "ed6edb73-41ae-4766-ece2-3143af66f389"
   },
   "outputs": [
    {
     "name": "stdout",
     "output_type": "stream",
     "text": [
      "             precision    recall  f1-score   support\n",
      "\n",
      "          0       0.95      0.84      0.89      1000\n",
      "          1       0.25      0.90      0.39      1000\n",
      "          2       0.29      0.23      0.26      1000\n",
      "          3       0.24      0.28      0.25      1000\n",
      "          4       0.31      0.29      0.30      1000\n",
      "          5       0.52      0.73      0.61      1000\n",
      "          6       0.18      0.37      0.24      1000\n",
      "          7       0.28      0.64      0.39      1000\n",
      "          8       0.00      0.00      0.00      1000\n",
      "          9       0.16      0.03      0.04      1000\n",
      "         10       0.00      0.00      0.00       120\n",
      "         11       0.00      0.00      0.00       120\n",
      "         12       0.00      0.00      0.00       120\n",
      "         13       0.00      0.00      0.00       120\n",
      "         14       0.00      0.00      0.00       120\n",
      "         15       0.00      0.00      0.00       120\n",
      "         16       0.00      0.00      0.00       120\n",
      "         17       0.48      0.18      0.27       120\n",
      "         18       0.00      0.00      0.00       120\n",
      "         19       0.00      0.00      0.00       120\n",
      "         20       0.00      0.00      0.00       120\n",
      "         21       0.00      0.00      0.00       120\n",
      "         22       0.00      0.00      0.00       120\n",
      "         23       0.00      0.00      0.00       120\n",
      "         24       0.00      0.00      0.00       120\n",
      "         25       0.00      0.00      0.00       120\n",
      "         26       0.00      0.00      0.00       120\n",
      "         27       0.00      0.00      0.00       120\n",
      "         28       0.00      0.00      0.00       120\n",
      "         29       0.00      0.00      0.00       120\n",
      "         30       0.00      0.00      0.00       120\n",
      "         31       0.00      0.00      0.00       120\n",
      "         32       0.00      0.00      0.00       120\n",
      "         33       0.00      0.00      0.00       120\n",
      "         34       0.00      0.00      0.00       120\n",
      "         35       0.00      0.00      0.00       120\n",
      "         36       0.00      0.00      0.00       120\n",
      "         37       0.00      0.00      0.00       120\n",
      "\n",
      "avg / total       0.24      0.32      0.26     13360\n",
      "\n"
     ]
    },
    {
     "name": "stderr",
     "output_type": "stream",
     "text": [
      "/usr/local/lib/python3.6/dist-packages/sklearn/metrics/classification.py:1135: UndefinedMetricWarning: Precision and F-score are ill-defined and being set to 0.0 in labels with no predicted samples.\n",
      "  'precision', 'predicted', average, warn_for)\n"
     ]
    }
   ],
   "source": [
    "y_pred, y_true = get_predicted_classes(baseline_model, testing_data_images, testing_data_labels)\n",
    "get_classification_report(y_true, y_pred)"
   ]
  },
  {
   "cell_type": "markdown",
   "metadata": {
    "colab_type": "text",
    "id": "FMrOKy46Ua1d"
   },
   "source": [
    "## Conclusion"
   ]
  },
  {
   "cell_type": "markdown",
   "metadata": {
    "colab_type": "text",
    "id": "T1UPKIl9Uew7"
   },
   "source": [
    "**We built a CNN model which can classify the arabic handwritten images into digits and letters. We tested the model on more than 13000 image with all possible classes and got very high accuracy of 98.86%.**"
   ]
  }
 ],
 "metadata": {
  "accelerator": "GPU",
  "colab": {
   "collapsed_sections": [],
   "name": "Arabic Handwritten Recognition.ipynb",
   "provenance": [],
   "toc_visible": true,
   "version": "0.3.2"
  },
  "kernelspec": {
   "display_name": "Python 3",
   "name": "python3"
  }
 },
 "nbformat": 4,
 "nbformat_minor": 1
}
